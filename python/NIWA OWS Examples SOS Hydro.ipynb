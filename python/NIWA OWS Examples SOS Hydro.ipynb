{
 "metadata": {
  "name": "",
  "signature": "sha256:4aa22c30e6253ded372277bd0b4270e54090875ef65a789925911545500c16b1"
 },
 "nbformat": 3,
 "nbformat_minor": 0,
 "worksheets": [
  {
   "cells": [
    {
     "cell_type": "heading",
     "level": 1,
     "metadata": {},
     "source": [
      "Using NIWA Open Web Service SOS feeds from Python: Hydro-SOS"
     ]
    },
    {
     "cell_type": "markdown",
     "metadata": {},
     "source": [
      "This example demonstrates connecting to a NIWA Sensor Observations Service from a Python Script.\n",
      "\n",
      "Use the stations WFS feed to identify candidate hydro stations in the area of interest and then obtain some timeseries data."
     ]
    },
    {
     "cell_type": "markdown",
     "metadata": {},
     "source": [
      "OWSLib is a Python package for client programming with Open Geospatial Consortium (OGC) web service (hence OWS) interface standards, and their related content models.\n",
      "\n",
      "http://geopython.github.io/OWSLib/\n",
      "\n",
      "    easy_install OWSLib\n",
      "    \n",
      "see http://nbviewer.ipython.org/github/peterataylor/OWSLib-SOS-example/blob/master/owslib-sos-notebook.ipynb for more examples    "
     ]
    },
    {
     "cell_type": "code",
     "collapsed": false,
     "input": [
      "# NIWA WMS and WFS Server endpoints are at\n",
      "niwa_ows = \"http://gs.niwa.co.nz/geoserver/stations/ows\"\n",
      "niwa_hydro_sos = \"http://hydro-sos.niwa.co.nz/?datasource=0\""
     ],
     "language": "python",
     "metadata": {},
     "outputs": [],
     "prompt_number": 73
    },
    {
     "cell_type": "heading",
     "level": 2,
     "metadata": {},
     "source": [
      "NIWA Hydro SOS "
     ]
    },
    {
     "cell_type": "heading",
     "level": 3,
     "metadata": {},
     "source": [
      "Import the OWS library and open the connection."
     ]
    },
    {
     "cell_type": "code",
     "collapsed": false,
     "input": [
      "%matplotlib inline\n",
      "from owslib.wfs import WebFeatureService\n",
      "from owslib.sos import SensorObservationService\n",
      "\n",
      "from owslib.swe.observation.sos200 import SosCapabilitiesReader\n",
      "x = SosCapabilitiesReader(url=niwa_hydro_sos)\n",
      "print x.capabilities_url(niwa_hydro_sos)\n",
      "\n",
      "# stations_wfs = WebFeatureService(niwa_ows)\n",
      "sos = SensorObservationService(niwa_hydro_sos,version='2.0.0')\n",
      "\n",
      "# print sos['http://hydro-sos.niwa.co.nz/tstypes/Ratings QC 2584']"
     ],
     "language": "python",
     "metadata": {},
     "outputs": [
      {
       "output_type": "stream",
       "stream": "stdout",
       "text": [
        "http://hydro-sos.niwa.co.nz/?datasource=0&service=SOS&request=GetCapabilities&acceptversions=2.0.0\n"
       ]
      }
     ],
     "prompt_number": 74
    },
    {
     "cell_type": "heading",
     "level": 3,
     "metadata": {},
     "source": [
      "Display service metadata"
     ]
    },
    {
     "cell_type": "code",
     "collapsed": false,
     "input": [
      "id = sos.identification\n",
      "print \"Identification:\"\n",
      "print \"\\tTitle:\\t\", id.title\n",
      "print \"\\tVersion:\\t\", id.version\n",
      "print \"\\tAbstract:\\t\", id.abstract\n",
      "print \"\\tKeywords:\"\n",
      "for key in id.keywords: print \"\\t\\t\", key\n",
      "print \"\\tFees:\\t\", id.fees\n",
      "print \"\\tAccess Constraints:\\t\", id.accessconstraints\n",
      "\n",
      "# list operations\n",
      "print \"Operations:\"\n",
      "for op in sos.operations: print \"\\t\", op.name\n",
      "    # , op.formatOptions, op.methods\n",
      "\n",
      "print \"Service Provider:\"\n",
      "p = sos.provider\n",
      "print \"\\tName:\\t\", p.name\n",
      "print \"\\tURL:\\t\", p.url\n",
      "print \"Contact:\"\n",
      "print \"\\tContact:\\t\", p.contact.name, p.contact.position\n",
      "\n"
     ],
     "language": "python",
     "metadata": {},
     "outputs": [
      {
       "output_type": "stream",
       "stream": "stdout",
       "text": [
        "Identification:\n",
        "\tTitle:\tKISTERS KiWIS SOS2\n",
        "\tVersion:\t2.0.0\n",
        "\tAbstract:\tNone\n",
        "\tKeywords:\n",
        "\tFees:\tNone\n",
        "\tAccess Constraints:\tmaxNumberOfReturnedValues=250000\n",
        "Operations:\n",
        "\tDescribeSensor\n",
        "\tGetCapabilities\n",
        "\tGetDataAvailability\n",
        "\tGetFeatureOfInterest\n",
        "\tGetObservation\n",
        "Service Provider:\n",
        "\tName:\tNIWA\n",
        "\tURL:\thttp://www.niwa.co.nz\n",
        "Contact:\n",
        "\tContact:\tJochen Schmidt Chief Scientist - Environmental Information\n"
       ]
      }
     ],
     "prompt_number": 75
    },
    {
     "cell_type": "heading",
     "level": 3,
     "metadata": {},
     "source": [
      "Operations Metadata"
     ]
    },
    {
     "cell_type": "markdown",
     "metadata": {},
     "source": [
      "Note that KiWIS is currently reporting an incorrect URL for these ops"
     ]
    },
    {
     "cell_type": "heading",
     "level": 4,
     "metadata": {},
     "source": [
      "Get Capabilities"
     ]
    },
    {
     "cell_type": "code",
     "collapsed": false,
     "input": [
      "# from owslib.ows import OperationsMetadata\n",
      "getcap = sos.get_operation_by_name('GetCapabilities')\n",
      "getcap.methods"
     ],
     "language": "python",
     "metadata": {},
     "outputs": [
      {
       "metadata": {},
       "output_type": "pyout",
       "prompt_number": 76,
       "text": [
        "[{'constraints': [Constraint: Content-Type - ['application/x-kvp']],\n",
        "  'type': 'Get',\n",
        "  'url': 'http://hydro-sos.niwa.co.nz?datasource=0'},\n",
        " {'constraints': [Constraint: Content-Type - ['application/soap+xml', 'application/xml']],\n",
        "  'type': 'Post',\n",
        "  'url': 'http://hydro-sos.niwa.co.nz?datasource=0'}]"
       ]
      }
     ],
     "prompt_number": 76
    },
    {
     "cell_type": "heading",
     "level": 4,
     "metadata": {},
     "source": [
      "Describe Sensor"
     ]
    },
    {
     "cell_type": "code",
     "collapsed": false,
     "input": [
      "descsen = sos.get_operation_by_name('DescribeSensor')\n",
      "descsen.methods\n"
     ],
     "language": "python",
     "metadata": {},
     "outputs": [
      {
       "metadata": {},
       "output_type": "pyout",
       "prompt_number": 77,
       "text": [
        "[{'constraints': [Constraint: Content-Type - ['application/x-kvp']],\n",
        "  'type': 'Get',\n",
        "  'url': 'http://hydro-sos.niwa.co.nz?datasource=0'},\n",
        " {'constraints': [Constraint: Content-Type - ['application/soap+xml', 'application/xml']],\n",
        "  'type': 'Post',\n",
        "  'url': 'http://hydro-sos.niwa.co.nz?datasource=0'}]"
       ]
      }
     ],
     "prompt_number": 77
    },
    {
     "cell_type": "heading",
     "level": 4,
     "metadata": {},
     "source": [
      "GetObservation\n"
     ]
    },
    {
     "cell_type": "code",
     "collapsed": false,
     "input": [
      "go = sos.get_operation_by_name('GetObservation')\n",
      "go.methods\n"
     ],
     "language": "python",
     "metadata": {},
     "outputs": [
      {
       "metadata": {},
       "output_type": "pyout",
       "prompt_number": 78,
       "text": [
        "[{'constraints': [Constraint: Content-Type - ['application/x-kvp']],\n",
        "  'type': 'Get',\n",
        "  'url': 'http://hydro-sos.niwa.co.nz?datasource=0'},\n",
        " {'constraints': [Constraint: Content-Type - ['application/soap+xml', 'application/xml']],\n",
        "  'type': 'Post',\n",
        "  'url': 'http://hydro-sos.niwa.co.nz?datasource=0'}]"
       ]
      }
     ],
     "prompt_number": 78
    },
    {
     "cell_type": "heading",
     "level": 2,
     "metadata": {},
     "source": [
      "Stations"
     ]
    },
    {
     "cell_type": "code",
     "collapsed": false,
     "input": [
      "# Listing available stations...\n",
      "stations = list(sos.contents)\n",
      "for s in stations[0:10]:  print sos.contents[s]\n"
     ],
     "language": "python",
     "metadata": {},
     "outputs": [
      {
       "output_type": "stream",
       "stream": "stdout",
       "text": [
        "Offering id: http://hydro-sos.niwa.co.nz/tstypes/Ratings QC 2584, name: Ratings QC 2584\n",
        "Offering id: http://hydro-sos.niwa.co.nz/tstypes/Ratings QC 1162, name: Ratings QC 1162\n",
        "Offering id: http://hydro-sos.niwa.co.nz/tstypes/River level QC 4572, name: River level QC 4572\n",
        "Offering id: http://hydro-sos.niwa.co.nz/tstypes/River level QC 4278, name: River level QC 4278\n",
        "Offering id: http://hydro-sos.niwa.co.nz/tstypes/River level QC 864, name: River level QC 864\n",
        "Offering id: http://hydro-sos.niwa.co.nz/tstypes/Ratings QC 2893, name: Ratings QC 2893\n",
        "Offering id: http://hydro-sos.niwa.co.nz/tstypes/River level QC 4272, name: River level QC 4272\n",
        "Offering id: http://hydro-sos.niwa.co.nz/tstypes/River level QC 4386, name: River level QC 4386\n",
        "Offering id: http://hydro-sos.niwa.co.nz/tstypes/Ratings QC 2518, name: Ratings QC 2518\n",
        "Offering id: http://hydro-sos.niwa.co.nz/tstypes/Ratings QC 862, name: Ratings QC 862\n"
       ]
      }
     ],
     "prompt_number": 79
    },
    {
     "cell_type": "heading",
     "level": 3,
     "metadata": {},
     "source": [
      "Details of a Station:"
     ]
    },
    {
     "cell_type": "code",
     "collapsed": false,
     "input": [
      "def printstation(s) :\n",
      "    print \"id\\t\", s.id\n",
      "    print \"name\\t\", s.name\n",
      "    print \"description\\t\", s.description\n",
      "    print \"BBOX\\t\", s.bbox\n",
      "    print \"BBOX SRS\\t\", s.bbox_srs\n",
      "    print \"procedures\\t\", s.procedures\n",
      "    # print s.procedure_description_formats\n",
      "    print \"Observed Properties\\t\", s.observed_properties\n",
      "    print \"Features of Interest\\t\", s.features_of_interest\n",
      "    # print s.response_formats\n",
      "    # print s.observation_models\n",
      "    # print \"SRS\\t\", s.srs\n",
      "    # print \"begin position\\t\", s.being_position\n",
      "    print\n",
      "    \n",
      "for id in list(sos.contents)[1:10]: printstation(sos.contents[id])    \n"
     ],
     "language": "python",
     "metadata": {},
     "outputs": [
      {
       "output_type": "stream",
       "stream": "stdout",
       "text": [
        "id\thttp://hydro-sos.niwa.co.nz/tstypes/Ratings QC 1162\n",
        "name\tRatings QC 1162\n",
        "description\tOffering for timeseries type Ratings QC 1162\n",
        "BBOX\t(-176.6631, -46.6519, 178.2036, -34.9196)\n",
        "BBOX SRS\turn:ogc:def:crs:EPSG::4326\n",
        "procedures\t['http://hydro-sos.niwa.co.nz/tstypes/Ratings QC 1162']\n",
        "Observed Properties\t[]\n",
        "Features of Interest\t[]\n",
        "\n",
        "id\thttp://hydro-sos.niwa.co.nz/tstypes/River level QC 4572\n",
        "name\tRiver level QC 4572\n",
        "description\tOffering for timeseries type River level QC 4572\n",
        "BBOX\t(-176.6631, -46.6519, 178.2036, -34.9196)\n",
        "BBOX SRS\turn:ogc:def:crs:EPSG::4326\n",
        "procedures\t['http://hydro-sos.niwa.co.nz/tstypes/River level QC 4572']\n",
        "Observed Properties\t[]\n",
        "Features of Interest\t[]\n",
        "\n",
        "id\thttp://hydro-sos.niwa.co.nz/tstypes/River level QC 4278\n",
        "name\tRiver level QC 4278\n",
        "description\tOffering for timeseries type River level QC 4278\n",
        "BBOX\t(-176.6631, -46.6519, 178.2036, -34.9196)\n",
        "BBOX SRS\turn:ogc:def:crs:EPSG::4326\n",
        "procedures\t['http://hydro-sos.niwa.co.nz/tstypes/River level QC 4278']\n",
        "Observed Properties\t[]\n",
        "Features of Interest\t[]\n",
        "\n",
        "id\thttp://hydro-sos.niwa.co.nz/tstypes/River level QC 864\n",
        "name\tRiver level QC 864\n",
        "description\tOffering for timeseries type River level QC 864\n",
        "BBOX\t(-176.6631, -46.6519, 178.2036, -34.9196)\n",
        "BBOX SRS\turn:ogc:def:crs:EPSG::4326\n",
        "procedures\t['http://hydro-sos.niwa.co.nz/tstypes/River level QC 864']\n",
        "Observed Properties\t[]\n",
        "Features of Interest\t[]\n",
        "\n",
        "id\thttp://hydro-sos.niwa.co.nz/tstypes/Ratings QC 2893\n",
        "name\tRatings QC 2893\n",
        "description\tOffering for timeseries type Ratings QC 2893\n",
        "BBOX\t(-176.6631, -46.6519, 178.2036, -34.9196)\n",
        "BBOX SRS\turn:ogc:def:crs:EPSG::4326\n",
        "procedures\t['http://hydro-sos.niwa.co.nz/tstypes/Ratings QC 2893']\n",
        "Observed Properties\t[]\n",
        "Features of Interest\t[]\n",
        "\n",
        "id\thttp://hydro-sos.niwa.co.nz/tstypes/River level QC 4272\n",
        "name\tRiver level QC 4272\n",
        "description\tOffering for timeseries type River level QC 4272\n",
        "BBOX\t(-176.6631, -46.6519, 178.2036, -34.9196)\n",
        "BBOX SRS\turn:ogc:def:crs:EPSG::4326\n",
        "procedures\t['http://hydro-sos.niwa.co.nz/tstypes/River level QC 4272']\n",
        "Observed Properties\t[]\n",
        "Features of Interest\t[]\n",
        "\n",
        "id\thttp://hydro-sos.niwa.co.nz/tstypes/River level QC 4386\n",
        "name\tRiver level QC 4386\n",
        "description\tOffering for timeseries type River level QC 4386\n",
        "BBOX\t(-176.6631, -46.6519, 178.2036, -34.9196)\n",
        "BBOX SRS\turn:ogc:def:crs:EPSG::4326\n",
        "procedures\t['http://hydro-sos.niwa.co.nz/tstypes/River level QC 4386']\n",
        "Observed Properties\t[]\n",
        "Features of Interest\t[]\n",
        "\n",
        "id\thttp://hydro-sos.niwa.co.nz/tstypes/Ratings QC 2518\n",
        "name\tRatings QC 2518\n",
        "description\tOffering for timeseries type Ratings QC 2518\n",
        "BBOX\t(-176.6631, -46.6519, 178.2036, -34.9196)\n",
        "BBOX SRS\turn:ogc:def:crs:EPSG::4326\n",
        "procedures\t['http://hydro-sos.niwa.co.nz/tstypes/Ratings QC 2518']\n",
        "Observed Properties\t[]\n",
        "Features of Interest\t[]\n",
        "\n",
        "id\thttp://hydro-sos.niwa.co.nz/tstypes/Ratings QC 862\n",
        "name\tRatings QC 862\n",
        "description\tOffering for timeseries type Ratings QC 862\n",
        "BBOX\t(-176.6631, -46.6519, 178.2036, -34.9196)\n",
        "BBOX SRS\turn:ogc:def:crs:EPSG::4326\n",
        "procedures\t['http://hydro-sos.niwa.co.nz/tstypes/Ratings QC 862']\n",
        "Observed Properties\t[]\n",
        "Features of Interest\t[]\n",
        "\n"
       ]
      }
     ],
     "prompt_number": 80
    },
    {
     "cell_type": "heading",
     "level": 2,
     "metadata": {},
     "source": [
      "Offerings"
     ]
    },
    {
     "cell_type": "markdown",
     "metadata": {},
     "source": [
      "In our cheap and cheerful system we have a one to one relationship between the station and the offering"
     ]
    },
    {
     "cell_type": "code",
     "collapsed": false,
     "input": [
      "for o in sos.offerings[1:10]:\n",
      "    print o"
     ],
     "language": "python",
     "metadata": {},
     "outputs": [
      {
       "output_type": "stream",
       "stream": "stdout",
       "text": [
        "Offering id: http://hydro-sos.niwa.co.nz/tstypes/River level QC 3696, name: River level QC 3696\n",
        "Offering id: http://hydro-sos.niwa.co.nz/tstypes/Ratings QC 4384, name: Ratings QC 4384\n",
        "Offering id: http://hydro-sos.niwa.co.nz/tstypes/Daily staff gauge readings QC 9687, name: Daily staff gauge readings QC 9687\n",
        "Offering id: http://hydro-sos.niwa.co.nz/tstypes/River level QC 4386, name: River level QC 4386\n",
        "Offering id: http://hydro-sos.niwa.co.nz/tstypes/Ratings QC 2152, name: Ratings QC 2152\n",
        "Offering id: http://hydro-sos.niwa.co.nz/tstypes/River level QC 2154, name: River level QC 2154\n",
        "Offering id: http://hydro-sos.niwa.co.nz/tstypes/Rainfall QC 8190, name: Rainfall QC 8190\n",
        "Offering id: http://hydro-sos.niwa.co.nz/tstypes/River level QC 2757, name: River level QC 2757\n",
        "Offering id: http://hydro-sos.niwa.co.nz/tstypes/Ratings QC 2755, name: Ratings QC 2755\n"
       ]
      }
     ],
     "prompt_number": 81
    },
    {
     "cell_type": "code",
     "collapsed": false,
     "input": [
      "def printoffering(s) :\n",
      "    print \"id\\t\", s.id\n",
      "    print \"name\\t\", s.name\n",
      "    print \"description\\t\", s.description\n",
      "    print \"BBOX\\t\", s.bbox\n",
      "    print \"BBOX SRS\\t\", s.bbox_srs\n",
      "    print \"procedures\\t\", s.procedures\n",
      "    # print s.procedure_description_formats\n",
      "    print \"Observed Properties\\t\", s.observed_properties\n",
      "    print \"Features of Interest\\t\", s.features_of_interest\n",
      "    print \"Response formats\\t\", s.response_formats\n",
      "    # print s.observation_models\n",
      "    # print \"SRS\\t\", s.srs\n",
      "    # print \"begin position\\t\", s.being_position\n",
      "    print\n",
      "    \n",
      "for o in sos.offerings[1:10]: printoffering(o)    \n"
     ],
     "language": "python",
     "metadata": {},
     "outputs": [
      {
       "output_type": "stream",
       "stream": "stdout",
       "text": [
        "id\thttp://hydro-sos.niwa.co.nz/tstypes/River level QC 3696\n",
        "name\tRiver level QC 3696\n",
        "description\tOffering for timeseries type River level QC 3696\n",
        "BBOX\t(-176.6631, -46.6519, 178.2036, -34.9196)\n",
        "BBOX SRS\turn:ogc:def:crs:EPSG::4326\n",
        "procedures\t['http://hydro-sos.niwa.co.nz/tstypes/River level QC 3696']\n",
        "Observed Properties\t[]\n",
        "Features of Interest\t[]\n",
        "Response formats\t[]\n",
        "\n",
        "id\thttp://hydro-sos.niwa.co.nz/tstypes/Ratings QC 4384\n",
        "name\tRatings QC 4384\n",
        "description\tOffering for timeseries type Ratings QC 4384\n",
        "BBOX\t(-176.6631, -46.6519, 178.2036, -34.9196)\n",
        "BBOX SRS\turn:ogc:def:crs:EPSG::4326\n",
        "procedures\t['http://hydro-sos.niwa.co.nz/tstypes/Ratings QC 4384']\n",
        "Observed Properties\t[]\n",
        "Features of Interest\t[]\n",
        "Response formats\t[]\n",
        "\n",
        "id\thttp://hydro-sos.niwa.co.nz/tstypes/Daily staff gauge readings QC 9687\n",
        "name\tDaily staff gauge readings QC 9687\n",
        "description\tOffering for timeseries type Daily staff gauge readings QC 9687\n",
        "BBOX\t(-176.6631, -46.6519, 178.2036, -34.9196)\n",
        "BBOX SRS\turn:ogc:def:crs:EPSG::4326\n",
        "procedures\t['http://hydro-sos.niwa.co.nz/tstypes/Daily staff gauge readings QC 9687']\n",
        "Observed Properties\t[]\n",
        "Features of Interest\t[]\n",
        "Response formats\t[]\n",
        "\n",
        "id\thttp://hydro-sos.niwa.co.nz/tstypes/River level QC 4386\n",
        "name\tRiver level QC 4386\n",
        "description\tOffering for timeseries type River level QC 4386\n",
        "BBOX\t(-176.6631, -46.6519, 178.2036, -34.9196)\n",
        "BBOX SRS\turn:ogc:def:crs:EPSG::4326\n",
        "procedures\t['http://hydro-sos.niwa.co.nz/tstypes/River level QC 4386']\n",
        "Observed Properties\t[]\n",
        "Features of Interest\t[]\n",
        "Response formats\t[]\n",
        "\n",
        "id\thttp://hydro-sos.niwa.co.nz/tstypes/Ratings QC 2152\n",
        "name\tRatings QC 2152\n",
        "description\tOffering for timeseries type Ratings QC 2152\n",
        "BBOX\t(-176.6631, -46.6519, 178.2036, -34.9196)\n",
        "BBOX SRS\turn:ogc:def:crs:EPSG::4326\n",
        "procedures\t['http://hydro-sos.niwa.co.nz/tstypes/Ratings QC 2152']\n",
        "Observed Properties\t[]\n",
        "Features of Interest\t[]\n",
        "Response formats\t[]\n",
        "\n",
        "id\thttp://hydro-sos.niwa.co.nz/tstypes/River level QC 2154\n",
        "name\tRiver level QC 2154\n",
        "description\tOffering for timeseries type River level QC 2154\n",
        "BBOX\t(-176.6631, -46.6519, 178.2036, -34.9196)\n",
        "BBOX SRS\turn:ogc:def:crs:EPSG::4326\n",
        "procedures\t['http://hydro-sos.niwa.co.nz/tstypes/River level QC 2154']\n",
        "Observed Properties\t[]\n",
        "Features of Interest\t[]\n",
        "Response formats\t[]\n",
        "\n",
        "id\thttp://hydro-sos.niwa.co.nz/tstypes/Rainfall QC 8190\n",
        "name\tRainfall QC 8190\n",
        "description\tOffering for timeseries type Rainfall QC 8190\n",
        "BBOX\t(-176.6631, -46.6519, 178.2036, -34.9196)\n",
        "BBOX SRS\turn:ogc:def:crs:EPSG::4326\n",
        "procedures\t['http://hydro-sos.niwa.co.nz/tstypes/Rainfall QC 8190']\n",
        "Observed Properties\t[]\n",
        "Features of Interest\t[]\n",
        "Response formats\t[]\n",
        "\n",
        "id\thttp://hydro-sos.niwa.co.nz/tstypes/River level QC 2757\n",
        "name\tRiver level QC 2757\n",
        "description\tOffering for timeseries type River level QC 2757\n",
        "BBOX\t(-176.6631, -46.6519, 178.2036, -34.9196)\n",
        "BBOX SRS\turn:ogc:def:crs:EPSG::4326\n",
        "procedures\t['http://hydro-sos.niwa.co.nz/tstypes/River level QC 2757']\n",
        "Observed Properties\t[]\n",
        "Features of Interest\t[]\n",
        "Response formats\t[]\n",
        "\n",
        "id\thttp://hydro-sos.niwa.co.nz/tstypes/Ratings QC 2755\n",
        "name\tRatings QC 2755\n",
        "description\tOffering for timeseries type Ratings QC 2755\n",
        "BBOX\t(-176.6631, -46.6519, 178.2036, -34.9196)\n",
        "BBOX SRS\turn:ogc:def:crs:EPSG::4326\n",
        "procedures\t['http://hydro-sos.niwa.co.nz/tstypes/Ratings QC 2755']\n",
        "Observed Properties\t[]\n",
        "Features of Interest\t[]\n",
        "Response formats\t[]\n",
        "\n"
       ]
      }
     ],
     "prompt_number": 82
    },
    {
     "cell_type": "heading",
     "level": 2,
     "metadata": {},
     "source": [
      "Observations"
     ]
    },
    {
     "cell_type": "markdown",
     "metadata": {},
     "source": [
      "* All the information clients need is available in the capabilities document, which is stored in the SOS object.\n",
      "* We need to choose our layer, bounding box, spatial reference system (SRS), size and format of the image."
     ]
    },
    {
     "cell_type": "code",
     "collapsed": false,
     "input": [
      "from owslib.fes import FilterCapabilities\n",
      "from owslib.crs import Crs\n",
      "from datetime import datetime"
     ],
     "language": "python",
     "metadata": {},
     "outputs": [],
     "prompt_number": 83
    },
    {
     "cell_type": "heading",
     "level": 6,
     "metadata": {},
     "source": [
      "GetObservation Function"
     ]
    },
    {
     "cell_type": "markdown",
     "metadata": {},
     "source": [
      "This is what a valid request might look like\n",
      "\n",
      "    http://hydro-sos.niwa.co.nz/?datasource=0\n",
      "    &version=2.0\n",
      "    &service=SOS\n",
      "    &request=getobservation\n",
      "    &featureOfInterest=http%3A%2F%2Fhydro-sos.niwa.co.nz%2Fstations%2F819\n",
      "    &observedProperty=http%3A%2F%2Fhydro-sos.niwa.co.nz%2Fparameters%2FStage%2FFlow+rating+QC+2152\n",
      "    &temporalFilter=om:phenomenonTime,2014-01-29T12:00:00.000+13:00/2014-07-29T00:00:00.000+00:00"
     ]
    },
    {
     "cell_type": "code",
     "collapsed": false,
     "input": [
      "op = 'http://hydro-sos.niwa.co.nz/parameters/Stage/Flow rating QC 2152'\n",
      "off = 'http://hydro-sos.niwa.co.nz/tstypes/Ratings QC 2152'\n",
      "proc = 'http://hydro-sos.niwa.co.nz/tstypes/Ratings QC 2152'\n",
      "\n",
      "print sos.get_operation_by_name('GetObservation').methods[0]['url'] \n",
      "\n",
      "# for KiWIS methods are 0 and 1 for Get and Post as the methods is an array not a map.\n",
      "response = sos.get_observation(offerings=[off], observedProperties=[op], method=0)"
     ],
     "language": "python",
     "metadata": {},
     "outputs": [
      {
       "output_type": "stream",
       "stream": "stdout",
       "text": [
        "http://hydro-sos.niwa.co.nz?datasource=0\n"
       ]
      }
     ],
     "prompt_number": 84
    },
    {
     "cell_type": "code",
     "collapsed": false,
     "input": [
      "response"
     ],
     "language": "python",
     "metadata": {},
     "outputs": [
      {
       "metadata": {},
       "output_type": "pyout",
       "prompt_number": 85,
       "text": [
        "'<sos:GetObservationResponse  xsi:schemaLocation=\"http://www.opengis.net/sos/2.0 http://schemas.opengis.net/sos/2.0/sos.xsd http://www.opengis.net/waterml/2.0 http://schemas.opengis.net/waterml/2.0/waterml2.xsd\" xmlns:wml2=\"http://www.opengis.net/waterml/2.0\" xmlns:xsi=\"http://www.w3.org/2001/XMLSchema-instance\" xmlns:gml=\"http://www.opengis.net/gml/3.2\" xmlns:om=\"http://www.opengis.net/om/2.0\" xmlns:sos=\"http://www.opengis.net/sos/2.0\" xmlns:sa=\"http://www.opengis.net/sampling/2.0\" xmlns:sams=\"http://www.opengis.net/samplingSpatial/2.0\" xmlns:xlink=\"http://www.w3.org/1999/xlink\"><extension xmlns=\"http://www.opengis.net/swes/2.0\"><wml2:SOSProfileExtension><wml2:metadata><wml2:DocumentMetadata gml:id=\"Ki.DocMD.1\"><wml2:generationDate>2014-12-04T20:34:54.621+00:00</wml2:generationDate><wml2:generationSystem>KISTERS KiWIS</wml2:generationSystem></wml2:DocumentMetadata></wml2:metadata></wml2:SOSProfileExtension></extension><sos:observationData><om:OM_Observation gml:id=\"Ki.OM_Obs.1\"><om:phenomenonTime><gml:TimePeriod gml:id=\"Ki.ObsTime.1\"><gml:beginPosition>2014-07-29T00:00:00.000+00:00</gml:beginPosition><gml:endPosition>2014-07-29T00:00:00.000+00:00</gml:endPosition></gml:TimePeriod></om:phenomenonTime><om:resultTime><gml:TimeInstant gml:id=\"Ki.resTime.1\"><gml:timePosition>2014-07-29T00:00:00.000+00:00</gml:timePosition></gml:TimeInstant></om:resultTime><om:procedure xlink:href=\"http://hydro-sos.niwa.co.nz/tstypes/Ratings QC 2152\" xlink:title=\"Ratings QC 2152\"/><om:observedProperty xlink:href=\"http://hydro-sos.niwa.co.nz/parameters/Stage/Flow rating QC 2152\" xlink:title=\"Stage/Flow rating QC 2152\"/><om:featureOfInterest xlink:href=\"http://hydro-sos.niwa.co.nz/stations/819\" xlink:title=\"Makarau at Coles\"/><om:result><wml2:MeasurementTimeseries gml:id=\"Ki.Ts.2152\"><wml2:defaultPointMetadata><wml2:DefaultTVPMeasurementMetadata><wml2:uom code=\"L/s\"/></wml2:DefaultTVPMeasurementMetadata></wml2:defaultPointMetadata><wml2:point><wml2:MeasurementTVP><wml2:time>2014-07-29T00:00:00.000+00:00</wml2:time><wml2:value>832</wml2:value><wml2:metadata><wml2:TVPMeasurementMetadata><wml2:qualifier xlink:href=\"http://hydro-sos.niwa.co.nz/qualifiers/0\" xlink:title=\"0\"/></wml2:TVPMeasurementMetadata></wml2:metadata></wml2:MeasurementTVP></wml2:point></wml2:MeasurementTimeseries></om:result></om:OM_Observation></sos:observationData></sos:GetObservationResponse>'"
       ]
      }
     ],
     "prompt_number": 85
    },
    {
     "cell_type": "markdown",
     "metadata": {},
     "source": [
      "Two months of data takes a couple of seconds to fetch"
     ]
    },
    {
     "cell_type": "heading",
     "level": 3,
     "metadata": {},
     "source": [
      "Observations with a time frame"
     ]
    },
    {
     "cell_type": "code",
     "collapsed": false,
     "input": [
      "# pick a start & stop time\n",
      "# om:phenomenonTime,2014-01-29T12:00:00.000+13:00/2014-07-29T00:00:00.000+00:00\n",
      "start = '2014-06-01T00:00:00.000+13:00'\n",
      "stop  = '2014-08-01T00:00:00.000+13:00'\n",
      "response = sos.get_observation(offerings=[off], observedProperties=[op], method=0, \n",
      "                               eventTime='om:phenomenonTime,%s/%s' % (start,stop))\n",
      "response[0:1400]\n"
     ],
     "language": "python",
     "metadata": {},
     "outputs": [
      {
       "metadata": {},
       "output_type": "pyout",
       "prompt_number": 86,
       "text": [
        "'<sos:GetObservationResponse  xsi:schemaLocation=\"http://www.opengis.net/sos/2.0 http://schemas.opengis.net/sos/2.0/sos.xsd http://www.opengis.net/waterml/2.0 http://schemas.opengis.net/waterml/2.0/waterml2.xsd\" xmlns:wml2=\"http://www.opengis.net/waterml/2.0\" xmlns:xsi=\"http://www.w3.org/2001/XMLSchema-instance\" xmlns:gml=\"http://www.opengis.net/gml/3.2\" xmlns:om=\"http://www.opengis.net/om/2.0\" xmlns:sos=\"http://www.opengis.net/sos/2.0\" xmlns:sa=\"http://www.opengis.net/sampling/2.0\" xmlns:sams=\"http://www.opengis.net/samplingSpatial/2.0\" xmlns:xlink=\"http://www.w3.org/1999/xlink\"><extension xmlns=\"http://www.opengis.net/swes/2.0\"><wml2:SOSProfileExtension><wml2:metadata><wml2:DocumentMetadata gml:id=\"Ki.DocMD.1\"><wml2:generationDate>2014-12-04T20:34:55.671+00:00</wml2:generationDate><wml2:generationSystem>KISTERS KiWIS</wml2:generationSystem></wml2:DocumentMetadata></wml2:metadata></wml2:SOSProfileExtension></extension><sos:observationData><om:OM_Observation gml:id=\"Ki.OM_Obs.1\"><om:phenomenonTime><gml:TimePeriod gml:id=\"Ki.ObsTime.1\"><gml:beginPosition>2014-05-31T11:00:00.000+00:00</gml:beginPosition><gml:endPosition>2014-07-29T00:00:00.000+00:00</gml:endPosition></gml:TimePeriod></om:phenomenonTime><om:resultTime><gml:TimeInstant gml:id=\"Ki.resTime.1\"><gml:timePosition>2014-07-29T00:00:00.000+00:00</gml:timePosition></gml:TimeInstant></om:resultTime><om:procedure xlink:href=\"h'"
       ]
      }
     ],
     "prompt_number": 86
    },
    {
     "cell_type": "heading",
     "level": 3,
     "metadata": {},
     "source": [
      "Parsing O&M Observations Results"
     ]
    },
    {
     "cell_type": "markdown",
     "metadata": {},
     "source": [
      "Currently the OWSLib doesn't have a built in parser for O&M Results. So we have to process the XML ourselves."
     ]
    },
    {
     "cell_type": "markdown",
     "metadata": {},
     "source": [
      "This GML has fairly messy namespace definitions so we want to build the namespace map from the header element. ElementTree doesn't do this that well so we will use lxml "
     ]
    },
    {
     "cell_type": "code",
     "collapsed": false,
     "input": [
      "from lxml import etree\n",
      "root = etree.fromstring(response)\n",
      "nsmap = root.nsmap\n",
      "print nsmap"
     ],
     "language": "python",
     "metadata": {},
     "outputs": [
      {
       "output_type": "stream",
       "stream": "stdout",
       "text": [
        "{'om': 'http://www.opengis.net/om/2.0', 'gml': 'http://www.opengis.net/gml/3.2', 'wml2': 'http://www.opengis.net/waterml/2.0', 'xlink': 'http://www.w3.org/1999/xlink', 'sos': 'http://www.opengis.net/sos/2.0', 'sams': 'http://www.opengis.net/samplingSpatial/2.0', 'sa': 'http://www.opengis.net/sampling/2.0', 'xsi': 'http://www.w3.org/2001/XMLSchema-instance'}\n"
       ]
      }
     ],
     "prompt_number": 87
    },
    {
     "cell_type": "code",
     "collapsed": false,
     "input": [
      "om_obs = root.findall('sos:observationData/om:OM_Observation', root.nsmap)\n",
      "print \"Result %s properties.\" % (len(om_obs))\n",
      "# print om_obs\n",
      "o = om_obs[0]\n",
      "\n",
      "pt = o.find(\"om:phenomenonTime/gml:TimePeriod\", root.nsmap)\n",
      "print \"PhenomenonTime: %s to %s\" %  (pt.find(\"gml:beginPosition\", root.nsmap).text, \n",
      "                                     pt.find(\"gml:endPosition\", root.nsmap).text)\n",
      "print \"Feature of Interest: \", o.find(\"om:featureOfInterest\", root.nsmap).attrib\n",
      "print \"ObservedProperty: \", o.find(\"om:observedProperty\", root.nsmap).attrib\n",
      "ObservedProperty = o.find(\"om:observedProperty\", root.nsmap).attrib['{http://www.w3.org/1999/xlink}title']"
     ],
     "language": "python",
     "metadata": {},
     "outputs": [
      {
       "output_type": "stream",
       "stream": "stdout",
       "text": [
        "Result 1 properties.\n",
        "PhenomenonTime: 2014-05-31T11:00:00.000+00:00 to 2014-07-29T00:00:00.000+00:00\n",
        "Feature of Interest:  {'{http://www.w3.org/1999/xlink}href': 'http://hydro-sos.niwa.co.nz/stations/819', '{http://www.w3.org/1999/xlink}title': 'Makarau at Coles'}\n",
        "ObservedProperty:  {'{http://www.w3.org/1999/xlink}href': 'http://hydro-sos.niwa.co.nz/parameters/Stage/Flow rating QC 2152', '{http://www.w3.org/1999/xlink}title': 'Stage/Flow rating QC 2152'}\n"
       ]
      }
     ],
     "prompt_number": 88
    },
    {
     "cell_type": "heading",
     "level": 3,
     "metadata": {},
     "source": [
      "Pick out the data points into a data array"
     ]
    },
    {
     "cell_type": "code",
     "collapsed": false,
     "input": [
      "om_points = om_obs[0].findall('om:result/wml2:MeasurementTimeseries/wml2:point', root.nsmap)\n",
      "print \"Result %s observations.\" % (len(om_points))\n",
      "\n",
      "\n",
      "\n",
      "dates = [ p.find('wml2:MeasurementTVP/wml2:time', root.nsmap).text  for p in om_points ]\n",
      "values = [ float(p.find('wml2:MeasurementTVP/wml2:value', root.nsmap).text) for p in om_points  ]\n",
      "\n",
      "ts = pd.Series( values, pd.to_datetime(dates))\n"
     ],
     "language": "python",
     "metadata": {},
     "outputs": [
      {
       "output_type": "stream",
       "stream": "stdout",
       "text": [
        "Result 5617 observations.\n"
       ]
      }
     ],
     "prompt_number": 89
    },
    {
     "cell_type": "heading",
     "level": 3,
     "metadata": {},
     "source": [
      "Plot the results"
     ]
    },
    {
     "cell_type": "code",
     "collapsed": false,
     "input": [
      "ts.plot(figsize=(20,6))"
     ],
     "language": "python",
     "metadata": {},
     "outputs": [
      {
       "metadata": {},
       "output_type": "pyout",
       "prompt_number": 90,
       "text": [
        "<matplotlib.axes._subplots.AxesSubplot at 0x104fa9950>"
       ]
      },
      {
       "metadata": {},
       "output_type": "display_data",
       "png": "[encoded data removed]",
       "text": [
        "<matplotlib.figure.Figure at 0x106daba10>"
       ]
      }
     ],
     "prompt_number": 90
    },
    {
     "cell_type": "heading",
     "level": 2,
     "metadata": {},
     "source": [
      "Putting it all together"
     ]
    },
    {
     "cell_type": "code",
     "collapsed": false,
     "input": [
      "measure = 'Rainfall QC 6520'\n",
      "op = 'http://hydro-sos.niwa.co.nz/parameters/%s' % measure\n",
      "off = 'http://hydro-sos.niwa.co.nz/tstypes/%s' % measure\n",
      "start = '1995-08-15T00:00:00.000+00:00'\n",
      "stop  = '1996-02-15T00:00:00.000+00:00'\n",
      "\n",
      "response = sos.get_observation(offerings=[off], observedProperties=[op], method=0, \n",
      "                               eventTime='om:phenomenonTime,%s/%s' % (start,stop))\n"
     ],
     "language": "python",
     "metadata": {},
     "outputs": [],
     "prompt_number": 91
    },
    {
     "cell_type": "code",
     "collapsed": false,
     "input": [
      "root = etree.fromstring(response)\n",
      "om_obs = root.findall('sos:observationData/om:OM_Observation', root.nsmap)\n",
      "print \"Result %s properties.\" % (len(om_obs))\n",
      "# print om_obs\n",
      "o = om_obs[0]\n",
      "ObservedProperty = o.find(\"om:observedProperty\", root.nsmap).attrib['{http://www.w3.org/1999/xlink}title']\n",
      "FeatureOfInterest = o.find(\"om:featureOfInterest\", root.nsmap).attrib['{http://www.w3.org/1999/xlink}title']\n",
      "print FeatureOfInterest, ObservedProperty"
     ],
     "language": "python",
     "metadata": {},
     "outputs": [
      {
       "output_type": "stream",
       "stream": "stdout",
       "text": [
        "Result 1 properties.\n",
        "Waiho at Almer Hut Rainfall QC 6520\n"
       ]
      }
     ],
     "prompt_number": 92
    },
    {
     "cell_type": "code",
     "collapsed": false,
     "input": [
      "om_points = om_obs[0].findall('om:result/wml2:MeasurementTimeseries/wml2:point', root.nsmap)\n",
      "print \"Result %s observations.\" % (len(om_points))\n",
      "\n",
      "import pandas as pd\n",
      "\n",
      "dates = [ p.find('wml2:MeasurementTVP/wml2:time', root.nsmap).text  for p in om_points ]\n",
      "values = [ float(p.find('wml2:MeasurementTVP/wml2:value', root.nsmap).text) for p in om_points  ]\n",
      "\n",
      "ts = pd.Series( values, pd.to_datetime(dates))"
     ],
     "language": "python",
     "metadata": {},
     "outputs": [
      {
       "output_type": "stream",
       "stream": "stdout",
       "text": [
        "Result 5864 observations.\n"
       ]
      }
     ],
     "prompt_number": 93
    },
    {
     "cell_type": "code",
     "collapsed": false,
     "input": [
      "daily = ts.resample('D', how='sum')\n",
      "daily.head()\n",
      "daily.plot(style='go', figsize=(20,6), label='Rainfall', title=FeatureOfInterest + ' - ' +  ObservedProperty)\n"
     ],
     "language": "python",
     "metadata": {},
     "outputs": [
      {
       "metadata": {},
       "output_type": "pyout",
       "prompt_number": 94,
       "text": [
        "<matplotlib.axes._subplots.AxesSubplot at 0x125c8b150>"
       ]
      },
      {
       "metadata": {},
       "output_type": "display_data",
       "png": "[encoded data removed]",
       "text": [
        "<matplotlib.figure.Figure at 0x104f90910>"
       ]
      }
     ],
     "prompt_number": 94
    },
    {
     "cell_type": "heading",
     "level": 2,
     "metadata": {},
     "source": [
      "A Longer Data Set"
     ]
    },
    {
     "cell_type": "code",
     "collapsed": false,
     "input": [
      "measure = 'Rainfall QC 6518'\n",
      "op = 'http://hydro-sos.niwa.co.nz/parameters/%s' % measure\n",
      "off = 'http://hydro-sos.niwa.co.nz/tstypes/%s' % measure\n",
      "start = '1983-12-12T00:00:00.000+00:00'\n",
      "stop  = '2014-12-04T00:00:00.000+00:00'\n",
      "\n",
      "response = sos.get_observation(offerings=[off], observedProperties=[op], method=0, \n",
      "                               eventTime='om:phenomenonTime,%s/%s' % (start,stop))\n"
     ],
     "language": "python",
     "metadata": {},
     "outputs": [],
     "prompt_number": 95
    },
    {
     "cell_type": "code",
     "collapsed": false,
     "input": [
      "root = etree.fromstring(response)\n",
      "om_obs = root.findall('sos:observationData/om:OM_Observation', root.nsmap)\n",
      "print \"Result %s properties.\" % (len(om_obs))\n",
      "# print om_obs\n",
      "o = om_obs[0]\n",
      "ObservedProperty = o.find(\"om:observedProperty\", root.nsmap).attrib['{http://www.w3.org/1999/xlink}title']\n",
      "FeatureOfInterest = o.find(\"om:featureOfInterest\", root.nsmap).attrib['{http://www.w3.org/1999/xlink}title']\n",
      "print FeatureOfInterest, ObservedProperty"
     ],
     "language": "python",
     "metadata": {},
     "outputs": [
      {
       "output_type": "stream",
       "stream": "stdout",
       "text": [
        "Result 1 properties.\n",
        "Waiho at Douglas Hut Rainfall QC 6518\n"
       ]
      }
     ],
     "prompt_number": 96
    },
    {
     "cell_type": "code",
     "collapsed": false,
     "input": [
      "om_points = om_obs[0].findall('om:result/wml2:MeasurementTimeseries/wml2:point', root.nsmap)\n",
      "print \"Result %s observations.\" % (len(om_points))\n",
      "\n",
      "import pandas as pd\n",
      "\n",
      "dates = [ p.find('wml2:MeasurementTVP/wml2:time', root.nsmap).text  for p in om_points ]\n",
      "values = [ float(p.find('wml2:MeasurementTVP/wml2:value', root.nsmap).text) for p in om_points  ]\n",
      "\n",
      "ts = pd.Series( values, pd.to_datetime(dates))"
     ],
     "language": "python",
     "metadata": {},
     "outputs": [
      {
       "output_type": "stream",
       "stream": "stdout",
       "text": [
        "Result 305721 observations.\n"
       ]
      }
     ],
     "prompt_number": 97
    },
    {
     "cell_type": "code",
     "collapsed": false,
     "input": [
      "ts.plot(style='g', figsize=(20,6), label='Rainfall', title=FeatureOfInterest + ' - ' +  ObservedProperty)"
     ],
     "language": "python",
     "metadata": {},
     "outputs": [
      {
       "metadata": {},
       "output_type": "pyout",
       "prompt_number": 98,
       "text": [
        "<matplotlib.axes._subplots.AxesSubplot at 0x10e524ad0>"
       ]
      },
      {
       "metadata": {},
       "output_type": "display_data",
       "png": "[encoded data removed]",
       "text": [
        "<matplotlib.figure.Figure at 0x125a00290>"
       ]
      }
     ],
     "prompt_number": 98
    },
    {
     "cell_type": "heading",
     "level": 3,
     "metadata": {},
     "source": [
      "Aggregate over months"
     ]
    },
    {
     "cell_type": "code",
     "collapsed": false,
     "input": [
      "# resample \n",
      "monthlys = ts.resample('A', how='sum')\n",
      "monthlys.head()"
     ],
     "language": "python",
     "metadata": {},
     "outputs": [
      {
       "metadata": {},
       "output_type": "pyout",
       "prompt_number": 99,
       "text": [
        "1983-12-31      715.347222\n",
        "1984-12-31    16595.852187\n",
        "1985-12-31    12817.512548\n",
        "1986-12-31     9099.869011\n",
        "1987-12-31     3587.238073\n",
        "Freq: A-DEC, dtype: float64"
       ]
      }
     ],
     "prompt_number": 99
    },
    {
     "cell_type": "code",
     "collapsed": false,
     "input": [
      "monthlys.plot(figsize=(20, 8), kind='bar', title=\"Total Annual Rainfall\")"
     ],
     "language": "python",
     "metadata": {},
     "outputs": [
      {
       "metadata": {},
       "output_type": "pyout",
       "prompt_number": 100,
       "text": [
        "<matplotlib.axes._subplots.AxesSubplot at 0x125c1bb50>"
       ]
      },
      {
       "metadata": {},
       "output_type": "display_data",
       "png": "[encoded data removed]",
       "text": [
        "<matplotlib.figure.Figure at 0x10e3db390>"
       ]
      }
     ],
     "prompt_number": 100
    },
    {
     "cell_type": "code",
     "collapsed": false,
     "input": [],
     "language": "python",
     "metadata": {},
     "outputs": [],
     "prompt_number": 100
    },
    {
     "cell_type": "code",
     "collapsed": false,
     "input": [],
     "language": "python",
     "metadata": {},
     "outputs": [],
     "prompt_number": 100
    }
   ],
   "metadata": {}
  }
 ]
}