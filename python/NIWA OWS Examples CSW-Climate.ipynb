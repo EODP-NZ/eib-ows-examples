{
 "metadata": {
  "name": "",
  "signature": "sha256:e615b9e819367028b5aed1db1b0177e1a48efc743b3fa4073fb3be8fb21820e5"
 },
 "nbformat": 3,
 "nbformat_minor": 0,
 "worksheets": [
  {
   "cells": [
    {
     "cell_type": "heading",
     "level": 1,
     "metadata": {},
     "source": [
      "Climate Records from NIWA Metadata Catalogue"
     ]
    },
    {
     "cell_type": "markdown",
     "metadata": {},
     "source": [
      "CSW is the OGC Catalogue Service It provides an interface for searching metadata catalogues. NIWA has its own metadata catalogue at http://dc.niwa.co.nz.  We can use this to find some interesting data assets.\n",
      "\n",
      "see http://geopython.github.io/OWSLib/#csw for more details\n",
      "\n",
      "I created a virtual csw endpoint in dc.niwa.co.nz called csw-climate. This should only return records in the climate category\n",
      "This page tests that endpoint"
     ]
    },
    {
     "cell_type": "code",
     "collapsed": false,
     "input": [
      "from owslib.csw import CatalogueServiceWeb\n",
      "from owslib import fes\n",
      "\n",
      "\n",
      "from IPython.display import HTML, display\n",
      "def print_dc(r):\n",
      "    display( HTML(\"<h3>%s <small>%s</small></h3>\" % (r.title, r.identifiers[0]['identifier'])))\n",
      "    \n",
      "    display( HTML(\"<p><strong>Subjects:</strong> %s</p>\" % \", \".join(r.subjects)))\n",
      "    display( HTML(\"<p><strong>Abstract:</strong> %s</p>\" % r.abstract))\n",
      "    display( HTML(\"<p><strong>Rights:</strong> %s</p>\" % \", \".join(r.rights)))\n",
      "    # print \"date:\", r.date\n",
      "    # print \"URIs:\", A.uris\n",
      "    for u in r.uris:\n",
      "        display(HTML(\"<a href='%s'>%s</a>\" % (u['url'], u['description'])))\n",
      "    print r.bbox    \n"
     ],
     "language": "python",
     "metadata": {},
     "outputs": [],
     "prompt_number": 24
    },
    {
     "cell_type": "code",
     "collapsed": false,
     "input": [
      "endpoint = 'http://dc.niwa.co.nz/niwa_dc/srv/en/csw-climate' # NIWA Metadata Catalogue\n",
      "csw = CatalogueServiceWeb(endpoint)\n"
     ],
     "language": "python",
     "metadata": {},
     "outputs": [],
     "prompt_number": 25
    },
    {
     "cell_type": "heading",
     "level": 2,
     "metadata": {},
     "source": [
      "GetRecords"
     ]
    },
    {
     "cell_type": "markdown",
     "metadata": {},
     "source": [
      "GetRecords with no constraints will return all the records in the csw-climate category."
     ]
    },
    {
     "cell_type": "code",
     "collapsed": false,
     "input": [
      "# get records in this area matching the keyword fish:\n",
      "csw.getrecords2(maxrecords=20, resulttype=\"hits\")\n",
      "print \"results\", csw.results\n"
     ],
     "language": "python",
     "metadata": {},
     "outputs": [
      {
       "output_type": "stream",
       "stream": "stdout",
       "text": [
        "results {'matches': 15, 'nextrecord': 0, 'returned': 15}\n"
       ]
      }
     ],
     "prompt_number": 26
    },
    {
     "cell_type": "markdown",
     "metadata": {},
     "source": [
      "The result csw.records is map with key = Metadata GUID and value holding the metadata content."
     ]
    },
    {
     "cell_type": "code",
     "collapsed": false,
     "input": [
      "csw.getrecords2(maxrecords=20, resulttype=\"results\")\n",
      "\n",
      "for rec in csw.records:\n",
      "    print rec + \":\", csw.records[rec].title\n"
     ],
     "language": "python",
     "metadata": {},
     "outputs": [
      {
       "output_type": "stream",
       "stream": "stdout",
       "text": [
        "65569e70-d87c-1c16-6d9a-e252a8cf891d: Daily total snow storage estimates since 1950 for the Lake Tekapo, Pukaki and Ohau catchments\n",
        "28157fd6-76c9-23ec-64cb-0af19ebab0e2: Loess distribution in the South Island\n",
        "e948804f-6387-4975-9f79-1200bc16f139: Climate Explorer\n",
        "064e779d-8cdd-6b71-bb67-152dc69ca95a: Virtual Climate Station Network\n",
        "66dc62de-dcb3-4dfe-b4d0-06e43dc8a52b: National Climate Network dataset (CliFlo)\n",
        "0d6871c2-376f-4a66-a774-f94bb049e280: National Climate Database (CLIDB)\n",
        "6aa3ff62-d210-5aad-4290-fed8814450e1: MOD10 MODIS Snow product for New Zealand\n",
        "95995320-c4ec-4c4a-8e1a-13fcd7f15c31: Surface radiation dataset\n",
        "24371b9b-93a6-4a0f-a93e-21780f7be772: New Zealand Ozone and UV Index Maps\n",
        "7b3b297f-0151-befb-437a-47fca729addb: Browning Range Snow extent photo series\n",
        "68df056f-d050-41ef-87d0-c554d0eaec43: High Intensity Rainfall System\n",
        "0001d08a-ad2c-44dc-a0bd-52ebba2dfb98: NIWA Stations Catalogue WFS service\n",
        "55bace6b-7749-40b3-a731-55e076ffc962: NIWA Station Information Management System (SIMS)\n",
        "6ae99b8c-cb2d-4694-9a43-4cea4ed409df: EcoConnect\n",
        "cc54e8ed-56a9-461a-a1ee-085dd82bf65a: NIWA Data Catalogue\n"
       ]
      }
     ],
     "prompt_number": 27
    },
    {
     "cell_type": "heading",
     "level": 2,
     "metadata": {},
     "source": [
      "List record properties and format nicely"
     ]
    },
    {
     "cell_type": "code",
     "collapsed": false,
     "input": [
      "for rec in csw.records:\n",
      "    print_dc(csw.records[rec])\n",
      "        \n",
      "    "
     ],
     "language": "python",
     "metadata": {},
     "outputs": [
      {
       "html": [
        "<h3>Daily total snow storage estimates since 1950 for the Lake Tekapo, Pukaki and Ohau catchments <small>65569e70-d87c-1c16-6d9a-e252a8cf891d</small></h3>"
       ],
       "metadata": {},
       "output_type": "display_data",
       "text": [
        "<IPython.core.display.HTML at 0x106efd450>"
       ]
      },
      {
       "html": [
        "<p><strong>Subjects:</strong> alpine processes  snow hydrology, MEL11511</p>"
       ],
       "metadata": {},
       "output_type": "display_data",
       "text": [
        "<IPython.core.display.HTML at 0x10642d6d0>"
       ]
      },
      {
       "html": [
        "<p><strong>Abstract:</strong> Daily estimates of total catchment snow storage for the Lake Tekapo, Lake Pukaki, and Lake Ohau catchments were generated using the TopNet stream flow model. The TopNet version was dated 4/6/2010 with patch description 'exclude zero Q obs from error calculations in log space'. In addition it had modifications to enable variable dates for the minimum and maximum snow melt. Note that these modifications were added to TopNet after the snow series was generated in patch 'add two parameters to adjust the min/max of seasonal snow melt factor' on 23/09/2010. \n",
        "\n",
        "The TopNet executable input files and configuration files are in the MEL1151 project directory under meridian_snow_20100901.tgz. The input data to the TopNet model were daily time series of precipitation and temperature for Franz Josef, Mt Cook, and Tekapo. The series was generated from the Electronic Weather Stations (EWS) at each site and adjusted series were from earlier daily observations made at nearby locations. The earlier values were adjusted by finding correlations during the overlap period with the EWS sites and applying the determined offset and scale. For precipitation, this adjustment was applied to log(base 10) of the daily precipitation values. Where gaps existed in the data, or no overlap existed, correlations to a nearby station with the highest correlation were used. The original climate data were obtained from cliflo.niwa.co.nz.</p>"
       ],
       "metadata": {},
       "output_type": "display_data",
       "text": [
        "<IPython.core.display.HTML at 0x106cff710>"
       ]
      },
      {
       "html": [
        "<p><strong>Rights:</strong> </p>"
       ],
       "metadata": {},
       "output_type": "display_data",
       "text": [
        "<IPython.core.display.HTML at 0x106efd850>"
       ]
      },
      {
       "output_type": "stream",
       "stream": "stdout",
       "text": [
        "None\n"
       ]
      },
      {
       "html": [
        "<h3>Loess distribution in the South Island <small>28157fd6-76c9-23ec-64cb-0af19ebab0e2</small></h3>"
       ],
       "metadata": {},
       "output_type": "display_data",
       "text": [
        "<IPython.core.display.HTML at 0x106efd490>"
       ]
      },
      {
       "html": [
        "<p><strong>Subjects:</strong> soils</p>"
       ],
       "metadata": {},
       "output_type": "display_data",
       "text": [
        "<IPython.core.display.HTML at 0x106f0e550>"
       ]
      },
      {
       "html": [
        "<p><strong>Abstract:</strong> In New Zealand, occurrence of loess often determines the spatial pattern of soil depth, and influences droughtiness, leaching potential, organic matter accumulation, nutrient retention, and natural plant species distribution. Understanding loess distribution is therefore a major prerequisite for soil and land resource management. Although New Zealand\u02bcs soil scientists have accumulated a good empirical knowledge of loess distribution through several decades of field investigation, only some of this knowledge is recorded in papers and reports. This study estimates loess thickness and percent cover, and provides loess landscape models for the internal loess distribution of all land units in the South Island based on expert knowledge. We derived loess depth classes and percent cover classes and assembled land units with similar loess distribution patterns. The soil sets underpinning the map units of the New Zealand Land Resource Inventory (NZLRI) were classified according to loess depth, loess cover, and loess pattern. New loess maps of the South Island were produced from those classifications, displaying loess coverage, thickness, loess pattern, and loess landscapes. These maps present our current knowledge of the coarse-scale loess distribution and provide a framework for fine-scale loess landscape modelling. REF: Schmidt et al. Modelling loess landscapes for the South Island, New Zealand, based on expert knowledge. New Zealand Journal of Geology and Geophysics, 2005, Vol. 48: 117\u2013133</p>"
       ],
       "metadata": {},
       "output_type": "display_data",
       "text": [
        "<IPython.core.display.HTML at 0x106f0ef90>"
       ]
      },
      {
       "html": [
        "<p><strong>Rights:</strong> </p>"
       ],
       "metadata": {},
       "output_type": "display_data",
       "text": [
        "<IPython.core.display.HTML at 0x106f0e190>"
       ]
      },
      {
       "output_type": "stream",
       "stream": "stdout",
       "text": [
        "None\n"
       ]
      },
      {
       "html": [
        "<h3>Climate Explorer <small>e948804f-6387-4975-9f79-1200bc16f139</small></h3>"
       ],
       "metadata": {},
       "output_type": "display_data",
       "text": [
        "<IPython.core.display.HTML at 0x106f0e510>"
       ]
      },
      {
       "html": [
        "<p><strong>Subjects:</strong> climate products, maps, soil moisture, temperature</p>"
       ],
       "metadata": {},
       "output_type": "display_data",
       "text": [
        "<IPython.core.display.HTML at 0x106f0e7d0>"
       ]
      },
      {
       "html": [
        "<p><strong>Abstract:</strong> NIWA's webpage tool for delivering updated climate products for New Zealand. This subscription-based service can be configured to generate a range of complex climate maps from our databases.</p>"
       ],
       "metadata": {},
       "output_type": "display_data",
       "text": [
        "<IPython.core.display.HTML at 0x106f0ed90>"
       ]
      },
      {
       "html": [
        "<p><strong>Rights:</strong> </p>"
       ],
       "metadata": {},
       "output_type": "display_data",
       "text": [
        "<IPython.core.display.HTML at 0x106f0ec90>"
       ]
      },
      {
       "output_type": "stream",
       "stream": "stdout",
       "text": [
        "None\n"
       ]
      },
      {
       "html": [
        "<h3>Virtual Climate Station Network <small>064e779d-8cdd-6b71-bb67-152dc69ca95a</small></h3>"
       ],
       "metadata": {},
       "output_type": "display_data",
       "text": [
        "<IPython.core.display.HTML at 0x106f0ee10>"
       ]
      },
      {
       "html": [
        "<p><strong>Subjects:</strong> climate  networks  climate stations  data acquisition</p>"
       ],
       "metadata": {},
       "output_type": "display_data",
       "text": [
        "<IPython.core.display.HTML at 0x106f0ed50>"
       ]
      },
      {
       "html": [
        "<p><strong>Abstract:</strong> Estimates of about 10 daily climate parameters at a regular about 5km grid around New Zealand from station data. Details for the Virtual Climate Network (VCSN) are listed below.\n",
        "\n",
        "VCSN data are available via http://cliflo.niwa.co.nz. To access the VCSN datatype, go to the Database Query Form, click on the dropdown tab for the \"Datatype Selection\" box in section 1 of the form and scroll down for \"Special Datasets\". Note that only one of these special datatypes can be active on the Database Query Form at the same time. \n",
        "This datatype has two choices:\n",
        "\u2022\tSelected stations over a date range (maximum of 10 stations per query) \n",
        "\u2022\tAll 11491 VCSN stations for one day (uses the start date). Note if the \"File Download Option\" is \"HTML Table\" then output is forced to be \"Excel File\" (to accomodate the number of rows).\n",
        "Field Descriptions:\n",
        "\u2022\tVCSN Station Identifier: This is always the agent number of the station i.e. the \"station identifier\" in the Database Query Form is ignored. See also the note below. \n",
        "\u2022\tDate: This is the local day. The date always includes the hour/minute \"00:00\" and refers to the day starting at the date indicated. Note carefully the time range of the data in the following fields e.g. \"at 9am\", \"from 9am\", \"to 9am\", etc, especially when comparing with datatypes from other sources. (See note on time range change below.) \n",
        "\u2022\tMSLPress(hPa): Pressure reduced to Mean Sea Level in hPa at 9am local day. \n",
        "\u2022\tPET(mm): 24 hour Penman Potential Evapotranspiration total in mm from 9am local day. \n",
        "\u2022\tRain(mm): Total amount of rain in mm from 9am local day \n",
        "\u2022\tRH(%): Relative humdity in percent at 9am local day. \n",
        "\u2022\tSoilM(mm): Soil moisture in mm from 9am local day calculated from rainfall and evapotranspiration. The base value is -150mm (\"permanent wilting point\") based on \"soil store capacity\". A value of \"0\" indicates the soil is at \"field capacity\" (amount of water held in the soil after the excess has drained away). A value greater than \"0\" indicates runoff. See the note below \"Note on Soil Moisture Calculation\" below for more information. \n",
        "\u2022\tTempEarth10cm(C): The 10cm earth temperature in degC at 9am local day. \n",
        "\u2022\tRadn(MJ/m2): Amount of accumulated global solar radiation in MJ/m2 (Mega Joules per square metre) from midnight local day. \n",
        "\u2022\tTmax(C): Maximum tempereature in degC from 9am local day. \n",
        "\u2022\tTmin(C): Minimum temperature in DegC to 9am local day. Note take care when comparing this with the daily combined \"Form 301\" minimum temperature - this will be one day earlier. \n",
        "\u2022\tVapPress(hPa): Vapour pressure in hPa at 9am local day. \n",
        "\u2022\tWindSpeed(mps): Mean wind speed in m/s at 10m above ground level over 24 hours from midnight local day.</p>"
       ],
       "metadata": {},
       "output_type": "display_data",
       "text": [
        "<IPython.core.display.HTML at 0x106f0ef50>"
       ]
      },
      {
       "html": [
        "<p><strong>Rights:</strong> </p>"
       ],
       "metadata": {},
       "output_type": "display_data",
       "text": [
        "<IPython.core.display.HTML at 0x106f0eb90>"
       ]
      },
      {
       "output_type": "stream",
       "stream": "stdout",
       "text": [
        "None\n"
       ]
      },
      {
       "html": [
        "<h3>National Climate Network dataset (CliFlo) <small>66dc62de-dcb3-4dfe-b4d0-06e43dc8a52b</small></h3>"
       ],
       "metadata": {},
       "output_type": "display_data",
       "text": [
        "<IPython.core.display.HTML at 0x106f0ed10>"
       ]
      },
      {
       "html": [
        "<p><strong>Subjects:</strong> New Zealand climate database CliFlo</p>"
       ],
       "metadata": {},
       "output_type": "display_data",
       "text": [
        "<IPython.core.display.HTML at 0x106f0eb10>"
       ]
      },
      {
       "html": [
        "<p><strong>Abstract:</strong> The climate database holds data from about 6500 climate stations which have been operating for various periods since the earliest observations were made in the year 1850. The database continues to receive data from over 600 stations that are currently operating. \n",
        "CliFlo returns raw data and statistical summaries. Raw data include ten minute, hourly and daily frequencies. Statistical data include about eighty different types of monthly and annual statistics and six types of thirty\u2212year normals.</p>"
       ],
       "metadata": {},
       "output_type": "display_data",
       "text": [
        "<IPython.core.display.HTML at 0x106f0ec10>"
       ]
      },
      {
       "html": [
        "<p><strong>Rights:</strong> </p>"
       ],
       "metadata": {},
       "output_type": "display_data",
       "text": [
        "<IPython.core.display.HTML at 0x106f0ead0>"
       ]
      },
      {
       "output_type": "stream",
       "stream": "stdout",
       "text": [
        "None\n"
       ]
      },
      {
       "html": [
        "<h3>National Climate Database (CLIDB) <small>0d6871c2-376f-4a66-a774-f94bb049e280</small></h3>"
       ],
       "metadata": {},
       "output_type": "display_data",
       "text": [
        "<IPython.core.display.HTML at 0x106f0e350>"
       ]
      },
      {
       "html": [
        "<p><strong>Subjects:</strong> climate New Zealand database</p>"
       ],
       "metadata": {},
       "output_type": "display_data",
       "text": [
        "<IPython.core.display.HTML at 0x106f0e810>"
       ]
      },
      {
       "html": [
        "<p><strong>Abstract:</strong> Database to hold New Zealand's Climate Data.</p>"
       ],
       "metadata": {},
       "output_type": "display_data",
       "text": [
        "<IPython.core.display.HTML at 0x106f0e3d0>"
       ]
      },
      {
       "html": [
        "<p><strong>Rights:</strong> </p>"
       ],
       "metadata": {},
       "output_type": "display_data",
       "text": [
        "<IPython.core.display.HTML at 0x106f0e850>"
       ]
      },
      {
       "output_type": "stream",
       "stream": "stdout",
       "text": [
        "None\n"
       ]
      },
      {
       "html": [
        "<h3>MOD10 MODIS Snow product for New Zealand <small>6aa3ff62-d210-5aad-4290-fed8814450e1</small></h3>"
       ],
       "metadata": {},
       "output_type": "display_data",
       "text": [
        "<IPython.core.display.HTML at 0x106f0e990>"
       ]
      },
      {
       "html": [
        "<p><strong>Subjects:</strong> snow, remote sensing, modis, new zealand, CLCO1202</p>"
       ],
       "metadata": {},
       "output_type": "display_data",
       "text": [
        "<IPython.core.display.HTML at 0x106e43410>"
       ]
      },
      {
       "html": [
        "<p><strong>Abstract:</strong> This Report assembles an eleven year time series for the period 2001 to 2011 of snow cover area in New Zealand. A dataset is prepared based on the MODIS/Terra Snow Cover 8-Day L3 Global 500m Grid, Version 5 data (MOD10A2.5, available from the National Snow and Ice Data Center NSIDC, Boulder, Colorado USA). The MOD10A2.5 dataset indicates the maximum snow cover extent over an eight-day compositing period. It provides a seamless coverage of snow presence at regularly spaced time intervals, while minimizing the obscuration by clouds. Each year is composed of 46 epochs, each of 8 consecutive days starting on the first day of the year and extending in to the next year. An algorithm based on a trajectory analysis of land cover through time is used to infer the status of remaining pixels obscured by cloud in the composite period. This leads to a time series of virtually cloud-free composite snow cover maps that are readily imported into GIS packages for analysis of spatial and temporal variability.</p>"
       ],
       "metadata": {},
       "output_type": "display_data",
       "text": [
        "<IPython.core.display.HTML at 0x106e43190>"
       ]
      },
      {
       "html": [
        "<p><strong>Rights:</strong> </p>"
       ],
       "metadata": {},
       "output_type": "display_data",
       "text": [
        "<IPython.core.display.HTML at 0x106e43050>"
       ]
      },
      {
       "output_type": "stream",
       "stream": "stdout",
       "text": [
        "None\n"
       ]
      },
      {
       "html": [
        "<h3>Surface radiation dataset <small>95995320-c4ec-4c4a-8e1a-13fcd7f15c31</small></h3>"
       ],
       "metadata": {},
       "output_type": "display_data",
       "text": [
        "<IPython.core.display.HTML at 0x106e43d90>"
       ]
      },
      {
       "html": [
        "<p><strong>Subjects:</strong> radiation, UV measurements, broadband, shortwave, Lauder, New Zealand, CliFlo</p>"
       ],
       "metadata": {},
       "output_type": "display_data",
       "text": [
        "<IPython.core.display.HTML at 0x106e43110>"
       ]
      },
      {
       "html": [
        "<p><strong>Abstract:</strong> Broadband erythemal UV irradiances measured at 10 minute intervals at 5 sites in New Zealand. Short wave direct, diffuse, and global radiation at Lauder. Network of approximately 70 national climate database radiation sites in the New Zealand region with broadband short wave radiation, and four higher quality sites with diffuse, direct, and global irradiances.</p>"
       ],
       "metadata": {},
       "output_type": "display_data",
       "text": [
        "<IPython.core.display.HTML at 0x106e430d0>"
       ]
      },
      {
       "html": [
        "<p><strong>Rights:</strong> </p>"
       ],
       "metadata": {},
       "output_type": "display_data",
       "text": [
        "<IPython.core.display.HTML at 0x106e43290>"
       ]
      },
      {
       "output_type": "stream",
       "stream": "stdout",
       "text": [
        "None\n"
       ]
      },
      {
       "html": [
        "<h3>New Zealand Ozone and UV Index Maps <small>24371b9b-93a6-4a0f-a93e-21780f7be772</small></h3>"
       ],
       "metadata": {},
       "output_type": "display_data",
       "text": [
        "<IPython.core.display.HTML at 0x106e43450>"
       ]
      },
      {
       "html": [
        "<p><strong>Subjects:</strong> ozone, ultraviolet, UV index, Lauder, forecast models</p>"
       ],
       "metadata": {},
       "output_type": "display_data",
       "text": [
        "<IPython.core.display.HTML at 0x106f3d050>"
       ]
      },
      {
       "html": [
        "<p><strong>Abstract:</strong> The maps provided here are forecasts modelled on available satellite ozone data.</p>"
       ],
       "metadata": {},
       "output_type": "display_data",
       "text": [
        "<IPython.core.display.HTML at 0x106f3d090>"
       ]
      },
      {
       "html": [
        "<p><strong>Rights:</strong> </p>"
       ],
       "metadata": {},
       "output_type": "display_data",
       "text": [
        "<IPython.core.display.HTML at 0x106f3d110>"
       ]
      },
      {
       "output_type": "stream",
       "stream": "stdout",
       "text": [
        "None\n"
       ]
      },
      {
       "html": [
        "<h3>Browning Range Snow extent photo series <small>7b3b297f-0151-befb-437a-47fca729addb</small></h3>"
       ],
       "metadata": {},
       "output_type": "display_data",
       "text": [
        "<IPython.core.display.HTML at 0x106f3d250>"
       ]
      },
      {
       "html": [
        "<p><strong>Subjects:</strong> snow surveys, Browning Range alpine alpine plants</p>"
       ],
       "metadata": {},
       "output_type": "display_data",
       "text": [
        "<IPython.core.display.HTML at 0x106f3d290>"
       ]
      },
      {
       "html": [
        "<p><strong>Abstract:</strong> Summer and Autumn photos of the snowcover across a cirque in the Browning Range, New Zealand, from 1996 - 2008</p>"
       ],
       "metadata": {},
       "output_type": "display_data",
       "text": [
        "<IPython.core.display.HTML at 0x106f3d2d0>"
       ]
      },
      {
       "html": [
        "<p><strong>Rights:</strong> </p>"
       ],
       "metadata": {},
       "output_type": "display_data",
       "text": [
        "<IPython.core.display.HTML at 0x106f3d310>"
       ]
      },
      {
       "output_type": "stream",
       "stream": "stdout",
       "text": [
        "None\n"
       ]
      },
      {
       "html": [
        "<h3>High Intensity Rainfall System <small>68df056f-d050-41ef-87d0-c554d0eaec43</small></h3>"
       ],
       "metadata": {},
       "output_type": "display_data",
       "text": [
        "<IPython.core.display.HTML at 0x106f3d350>"
       ]
      },
      {
       "html": [
        "<p><strong>Subjects:</strong> High Intensity Rainfall Design System rare events web-based drainage systems</p>"
       ],
       "metadata": {},
       "output_type": "display_data",
       "text": [
        "<IPython.core.display.HTML at 0x106f3d390>"
       ]
      },
      {
       "html": [
        "<p><strong>Abstract:</strong> The High Intensity Rainfall Design System is a web-based programme that can estimate rainfall frequency at any point in New Zealand. It can be used to estimate rainfall depths for hydrological design purposes, and to assess the rarity of observed storm events.</p>"
       ],
       "metadata": {},
       "output_type": "display_data",
       "text": [
        "<IPython.core.display.HTML at 0x106f3d3d0>"
       ]
      },
      {
       "html": [
        "<p><strong>Rights:</strong> </p>"
       ],
       "metadata": {},
       "output_type": "display_data",
       "text": [
        "<IPython.core.display.HTML at 0x106f3d410>"
       ]
      },
      {
       "output_type": "stream",
       "stream": "stdout",
       "text": [
        "None\n"
       ]
      },
      {
       "html": [
        "<h3>NIWA Stations Catalogue WFS service <small>0001d08a-ad2c-44dc-a0bd-52ebba2dfb98</small></h3>"
       ],
       "metadata": {},
       "output_type": "display_data",
       "text": [
        "<IPython.core.display.HTML at 0x106f3d450>"
       ]
      },
      {
       "html": [
        "<p><strong>Subjects:</strong> field station data, SIMS, information, management</p>"
       ],
       "metadata": {},
       "output_type": "display_data",
       "text": [
        "<IPython.core.display.HTML at 0x106f3d490>"
       ]
      },
      {
       "html": [
        "<p><strong>Abstract:</strong> This is an OGC Web Feature Service feed from the  NIWA Station management system, a component of the NIWA Spatial Data Infrastructure (SDI).\n",
        "\n",
        "It provides position and attribute information on over 5000 fixed position environmental monitoring stations across NZ and the Pacific.\n",
        "\n",
        "The service provides three feature sets:\n",
        "stations\tNIWA public stations -180\u00b0-+180\u00b0\n",
        "stations_360\tNIWA public stations 0\u00b0360\u00b0\t\n",
        "The stations_360 layer returns station locations in the range 0..360\u00b0 making it easier to display stations on either side of the International Date Line.\n",
        "\n",
        "stationtypes\tNIWA station types\t\n",
        "The stationtypes layer returns the various types of stations available: climate, rainfall, sea level etc. This allows clients to craft filtered requests or display different station types in different colours or styles.</p>"
       ],
       "metadata": {},
       "output_type": "display_data",
       "text": [
        "<IPython.core.display.HTML at 0x106f3d4d0>"
       ]
      },
      {
       "html": [
        "<p><strong>Rights:</strong> </p>"
       ],
       "metadata": {},
       "output_type": "display_data",
       "text": [
        "<IPython.core.display.HTML at 0x106f3d510>"
       ]
      },
      {
       "output_type": "stream",
       "stream": "stdout",
       "text": [
        "None\n"
       ]
      },
      {
       "html": [
        "<h3>NIWA Station Information Management System (SIMS) <small>55bace6b-7749-40b3-a731-55e076ffc962</small></h3>"
       ],
       "metadata": {},
       "output_type": "display_data",
       "text": [
        "<IPython.core.display.HTML at 0x106f3d550>"
       ]
      },
      {
       "html": [
        "<p><strong>Subjects:</strong> field station data SIMS information management</p>"
       ],
       "metadata": {},
       "output_type": "display_data",
       "text": [
        "<IPython.core.display.HTML at 0x106f3d590>"
       ]
      },
      {
       "html": [
        "<p><strong>Abstract:</strong> Archive for Metadata about NIWA's permanent field measurements</p>"
       ],
       "metadata": {},
       "output_type": "display_data",
       "text": [
        "<IPython.core.display.HTML at 0x106f3d5d0>"
       ]
      },
      {
       "html": [
        "<p><strong>Rights:</strong> </p>"
       ],
       "metadata": {},
       "output_type": "display_data",
       "text": [
        "<IPython.core.display.HTML at 0x106f3d610>"
       ]
      },
      {
       "output_type": "stream",
       "stream": "stdout",
       "text": [
        "None\n"
       ]
      },
      {
       "html": [
        "<h3>EcoConnect <small>6ae99b8c-cb2d-4694-9a43-4cea4ed409df</small></h3>"
       ],
       "metadata": {},
       "output_type": "display_data",
       "text": [
        "<IPython.core.display.HTML at 0x106f3d650>"
       ]
      },
      {
       "html": [
        "<p><strong>Subjects:</strong> EcoConnect NIWA environmental forecasting</p>"
       ],
       "metadata": {},
       "output_type": "display_data",
       "text": [
        "<IPython.core.display.HTML at 0x106f3d690>"
       ]
      },
      {
       "html": [
        "<p><strong>Abstract:</strong> EcoConnect is NIWA's environmental forecasting and information service specialising in the creation and delivery of information that increases awareness of a broad range of past, current, and future environmental conditions, and of decision tools that use this information to mitigate environmental and commercial risk. One of the main advantages of using EcoConnect is the integration of all observation and forecast data within one user interface. EcoConnect system is running 24 hours a day, 7 days a week and is fully supported by both scientific and technical staff.</p>"
       ],
       "metadata": {},
       "output_type": "display_data",
       "text": [
        "<IPython.core.display.HTML at 0x106f3d6d0>"
       ]
      },
      {
       "html": [
        "<p><strong>Rights:</strong> </p>"
       ],
       "metadata": {},
       "output_type": "display_data",
       "text": [
        "<IPython.core.display.HTML at 0x106f3d710>"
       ]
      },
      {
       "output_type": "stream",
       "stream": "stdout",
       "text": [
        "None\n"
       ]
      },
      {
       "html": [
        "<h3>NIWA Data Catalogue <small>cc54e8ed-56a9-461a-a1ee-085dd82bf65a</small></h3>"
       ],
       "metadata": {},
       "output_type": "display_data",
       "text": [
        "<IPython.core.display.HTML at 0x106f3d750>"
       ]
      },
      {
       "html": [
        "<p><strong>Subjects:</strong> </p>"
       ],
       "metadata": {},
       "output_type": "display_data",
       "text": [
        "<IPython.core.display.HTML at 0x106f3d790>"
       ]
      },
      {
       "html": [
        "<p><strong>Abstract:</strong> Register for NIWA's datasets, databases and data services that cover all aspects of science research undertaken by National Institute of Water & Atmospheric Research</p>"
       ],
       "metadata": {},
       "output_type": "display_data",
       "text": [
        "<IPython.core.display.HTML at 0x106f3d7d0>"
       ]
      },
      {
       "html": [
        "<p><strong>Rights:</strong> </p>"
       ],
       "metadata": {},
       "output_type": "display_data",
       "text": [
        "<IPython.core.display.HTML at 0x106f3d810>"
       ]
      },
      {
       "output_type": "stream",
       "stream": "stdout",
       "text": [
        "None\n"
       ]
      }
     ],
     "prompt_number": 28
    },
    {
     "cell_type": "code",
     "collapsed": false,
     "input": [],
     "language": "python",
     "metadata": {},
     "outputs": [],
     "prompt_number": 28
    }
   ],
   "metadata": {}
  }
 ]
}