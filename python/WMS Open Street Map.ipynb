{
 "metadata": {
  "name": "",
  "signature": "sha256:ec27f0e772aa3bccdc232738923b22ce42495a249b44cc1a0858570c2fc93881"
 },
 "nbformat": 3,
 "nbformat_minor": 0,
 "worksheets": [
  {
   "cells": [
    {
     "cell_type": "code",
     "collapsed": false,
     "input": [
      "# Try displaying NOAA's OpenStreetMap WMS in Basemap"
     ],
     "language": "python",
     "metadata": {},
     "outputs": [],
     "prompt_number": 2
    },
    {
     "cell_type": "code",
     "collapsed": false,
     "input": [
      "from pylab import *\n",
      "import urllib\n",
      "from PIL import Image\n",
      "import cStringIO\n",
      "from mpl_toolkits.basemap import Basemap\n",
      "from datetime import datetime\n",
      "from owslib.wms import WebMapService"
     ],
     "language": "python",
     "metadata": {},
     "outputs": [],
     "prompt_number": 43
    },
    {
     "cell_type": "code",
     "collapsed": false,
     "input": [
      "# Cylindrical Basemap for Baja California\n",
      "lon_min = -180\n",
      "lon_max = 180\n",
      "lat_min = -45\n",
      "lat_max = 45\n",
      "m = Basemap(llcrnrlon=lon_min, urcrnrlat=lat_max, urcrnrlon=lon_max, llcrnrlat=lat_min,\n",
      "        resolution='l', projection='cyl')"
     ],
     "language": "python",
     "metadata": {},
     "outputs": [],
     "prompt_number": 31
    },
    {
     "cell_type": "code",
     "collapsed": false,
     "input": [
      "# OpenStreetMap WMS from NOAA\n",
      "urlbase='http://osm.woc.noaa.gov/mapcache'\n",
      "wms = WebMapService(urlbase)"
     ],
     "language": "python",
     "metadata": {},
     "outputs": [],
     "prompt_number": 32
    },
    {
     "cell_type": "code",
     "collapsed": false,
     "input": [
      "# What layers are available?\n",
      "list(wms.contents)"
     ],
     "language": "python",
     "metadata": {},
     "outputs": [
      {
       "metadata": {},
       "output_type": "pyout",
       "prompt_number": 33,
       "text": [
        "['osm', 'rootlayer']"
       ]
      }
     ],
     "prompt_number": 33
    },
    {
     "cell_type": "code",
     "collapsed": false,
     "input": [
      "# What CRS projections are available?\n",
      "wms['osm'].crsOptions"
     ],
     "language": "python",
     "metadata": {},
     "outputs": [
      {
       "metadata": {},
       "output_type": "pyout",
       "prompt_number": 34,
       "text": [
        "['EPSG:900913', 'EPSG:4326', 'EPSG:3857']"
       ]
      }
     ],
     "prompt_number": 34
    },
    {
     "cell_type": "code",
     "collapsed": false,
     "input": [
      "# What formats are available?\n",
      "wms.getOperationByName('GetMap').formatOptions"
     ],
     "language": "python",
     "metadata": {},
     "outputs": [
      {
       "metadata": {},
       "output_type": "pyout",
       "prompt_number": 35,
       "text": [
        "['image/png', 'image/jpeg']"
       ]
      }
     ],
     "prompt_number": 35
    },
    {
     "cell_type": "code",
     "collapsed": false,
     "input": [
      "# Issue the WMS getmap request \n",
      "osm_layer = wms.getmap(service='wms',layers=['osm'],transparent=True,\n",
      "                 srs='EPSG:4326',\n",
      "                 bbox=(lon_min,lat_min,lon_max,lat_max),\n",
      "                 size=(256,256),format='image/jpg')\n",
      "\n"
     ],
     "language": "python",
     "metadata": {},
     "outputs": [
      {
       "ename": "ServiceException",
       "evalue": "<?xml version='1.0' encoding=\"UTF-8\" standalone=\"no\" ?>\n<!DOCTYPE ServiceExceptionReport SYSTEM \"http://schemas.opengis.net/wms/1.1.1/exception_1_1_1.dtd\">\n<ServiceExceptionReport version=\"1.1.1\">\n<ServiceException>\n<![CDATA[\nreceived unsuitable wms request: no <grid> with suitable srs found for layer osm\n]]>\n</ServiceException>\n</ServiceExceptionReport>",
       "output_type": "pyerr",
       "traceback": [
        "\u001b[0;31m---------------------------------------------------------------------------\u001b[0m\n\u001b[0;31mServiceException\u001b[0m                          Traceback (most recent call last)",
        "\u001b[0;32m<ipython-input-37-5a55738e1421>\u001b[0m in \u001b[0;36m<module>\u001b[0;34m()\u001b[0m\n\u001b[1;32m      3\u001b[0m                  \u001b[0msrs\u001b[0m\u001b[0;34m=\u001b[0m\u001b[0;34m'EPSG:4326'\u001b[0m\u001b[0;34m,\u001b[0m\u001b[0;34m\u001b[0m\u001b[0m\n\u001b[1;32m      4\u001b[0m                  \u001b[0mbbox\u001b[0m\u001b[0;34m=\u001b[0m\u001b[0;34m(\u001b[0m\u001b[0mlon_min\u001b[0m\u001b[0;34m,\u001b[0m\u001b[0mlat_min\u001b[0m\u001b[0;34m,\u001b[0m\u001b[0mlon_max\u001b[0m\u001b[0;34m,\u001b[0m\u001b[0mlat_max\u001b[0m\u001b[0;34m)\u001b[0m\u001b[0;34m,\u001b[0m\u001b[0;34m\u001b[0m\u001b[0m\n\u001b[0;32m----> 5\u001b[0;31m                  size=(256,256),format='image/jpg')\n\u001b[0m\u001b[1;32m      6\u001b[0m \u001b[0;34m\u001b[0m\u001b[0m\n",
        "\u001b[0;32m/Users/watkinsav/anaconda/lib/python2.7/site-packages/OWSLib-0.8.10-py2.7.egg/owslib/wms.pyc\u001b[0m in \u001b[0;36mgetmap\u001b[0;34m(self, layers, styles, srs, bbox, format, size, time, transparent, bgcolor, exceptions, method, **kwargs)\u001b[0m\n\u001b[1;32m    238\u001b[0m         \u001b[0mdata\u001b[0m \u001b[0;34m=\u001b[0m \u001b[0murlencode\u001b[0m\u001b[0;34m(\u001b[0m\u001b[0mrequest\u001b[0m\u001b[0;34m)\u001b[0m\u001b[0;34m\u001b[0m\u001b[0m\n\u001b[1;32m    239\u001b[0m \u001b[0;34m\u001b[0m\u001b[0m\n\u001b[0;32m--> 240\u001b[0;31m         \u001b[0mu\u001b[0m \u001b[0;34m=\u001b[0m \u001b[0mopenURL\u001b[0m\u001b[0;34m(\u001b[0m\u001b[0mbase_url\u001b[0m\u001b[0;34m,\u001b[0m \u001b[0mdata\u001b[0m\u001b[0;34m,\u001b[0m \u001b[0mmethod\u001b[0m\u001b[0;34m,\u001b[0m \u001b[0musername\u001b[0m \u001b[0;34m=\u001b[0m \u001b[0mself\u001b[0m\u001b[0;34m.\u001b[0m\u001b[0musername\u001b[0m\u001b[0;34m,\u001b[0m \u001b[0mpassword\u001b[0m \u001b[0;34m=\u001b[0m \u001b[0mself\u001b[0m\u001b[0;34m.\u001b[0m\u001b[0mpassword\u001b[0m\u001b[0;34m)\u001b[0m\u001b[0;34m\u001b[0m\u001b[0m\n\u001b[0m\u001b[1;32m    241\u001b[0m \u001b[0;34m\u001b[0m\u001b[0m\n\u001b[1;32m    242\u001b[0m         \u001b[0;31m# check for service exceptions, and return\u001b[0m\u001b[0;34m\u001b[0m\u001b[0;34m\u001b[0m\u001b[0m\n",
        "\u001b[0;32m/Users/watkinsav/anaconda/lib/python2.7/site-packages/OWSLib-0.8.10-py2.7.egg/owslib/util.pyc\u001b[0m in \u001b[0;36mopenURL\u001b[0;34m(url_base, data, method, cookies, username, password, timeout)\u001b[0m\n\u001b[1;32m    180\u001b[0m     \u001b[0;32mexcept\u001b[0m \u001b[0mHTTPError\u001b[0m\u001b[0;34m,\u001b[0m \u001b[0me\u001b[0m\u001b[0;34m:\u001b[0m \u001b[0;31m#Some servers may set the http header to 400 if returning an OGC service exception or 401 if unauthorised.\u001b[0m\u001b[0;34m\u001b[0m\u001b[0m\n\u001b[1;32m    181\u001b[0m         \u001b[0;32mif\u001b[0m \u001b[0me\u001b[0m\u001b[0;34m.\u001b[0m\u001b[0mcode\u001b[0m \u001b[0;32min\u001b[0m \u001b[0;34m[\u001b[0m\u001b[0;36m400\u001b[0m\u001b[0;34m,\u001b[0m \u001b[0;36m401\u001b[0m\u001b[0;34m]\u001b[0m\u001b[0;34m:\u001b[0m\u001b[0;34m\u001b[0m\u001b[0m\n\u001b[0;32m--> 182\u001b[0;31m             \u001b[0;32mraise\u001b[0m \u001b[0mServiceException\u001b[0m\u001b[0;34m,\u001b[0m \u001b[0me\u001b[0m\u001b[0;34m.\u001b[0m\u001b[0mread\u001b[0m\u001b[0;34m(\u001b[0m\u001b[0;34m)\u001b[0m\u001b[0;34m\u001b[0m\u001b[0m\n\u001b[0m\u001b[1;32m    183\u001b[0m         \u001b[0;32melse\u001b[0m\u001b[0;34m:\u001b[0m\u001b[0;34m\u001b[0m\u001b[0m\n\u001b[1;32m    184\u001b[0m             \u001b[0;32mraise\u001b[0m \u001b[0me\u001b[0m\u001b[0;34m\u001b[0m\u001b[0m\n",
        "\u001b[0;31mServiceException\u001b[0m: <?xml version='1.0' encoding=\"UTF-8\" standalone=\"no\" ?>\n<!DOCTYPE ServiceExceptionReport SYSTEM \"http://schemas.opengis.net/wms/1.1.1/exception_1_1_1.dtd\">\n<ServiceExceptionReport version=\"1.1.1\">\n<ServiceException>\n<![CDATA[\nreceived unsuitable wms request: no <grid> with suitable srs found for layer osm\n]]>\n</ServiceException>\n</ServiceExceptionReport>"
       ]
      }
     ],
     "prompt_number": 37
    },
    {
     "cell_type": "code",
     "collapsed": false,
     "input": [
      "from IPython.core.display import Image\n",
      "print osm_layer.read()\n",
      "osm = Image(osm_layer.read())\n",
      "osm_layer.url"
     ],
     "language": "python",
     "metadata": {},
     "outputs": [
      {
       "output_type": "stream",
       "stream": "stdout",
       "text": [
        "\n"
       ]
      },
      {
       "metadata": {},
       "output_type": "pyout",
       "prompt_number": 24,
       "text": [
        "'http://osm.woc.noaa.gov/mapcache?layers=osm&styles=&service=wms&srs=EPSG%3A3857&format=image%2Fjpg&request=GetMap&bgcolor=0xFFFFFF&height=256&width=256&version=1.1.1&bbox=-118.8%2C22.15%2C-108.6%2C32.34&exceptions=application%2Fvnd.ogc.se_xml&transparent=TRUE'"
       ]
      }
     ],
     "prompt_number": 24
    },
    {
     "cell_type": "code",
     "collapsed": false,
     "input": [
      "# If I retrieve and store the jpg, imread can read it....\n",
      "im = Image.open(cStringIO.StringIO(urllib.urlopen(osm_layer.url).read()))"
     ],
     "language": "python",
     "metadata": {},
     "outputs": [],
     "prompt_number": 12
    },
    {
     "cell_type": "code",
     "collapsed": false,
     "input": [
      "# plot the image in Basemap\n",
      "figure(figsize=(8,6),frameon=True)\n",
      "cs=m.imshow(im)\n",
      "m.drawcoastlines(linewidth=0.25)\n",
      "parallels = arange(20,36,2.)\n",
      "a=m.drawparallels(parallels,labels=[1,0,0,0],fontsize=10)\n",
      "# draw meridians\n",
      "meridians = np.arange(-120,-100,2.)\n",
      "b=m.drawmeridians(meridians,labels=[0,0,0,1],fontsize=10)"
     ],
     "language": "python",
     "metadata": {},
     "outputs": [],
     "prompt_number": 13
    },
    {
     "cell_type": "code",
     "collapsed": false,
     "input": [
      "img.url"
     ],
     "language": "python",
     "metadata": {},
     "outputs": [
      {
       "metadata": {},
       "output_type": "pyout",
       "prompt_number": 14,
       "text": [
        "'http://osm.woc.noaa.gov/mapcache?layers=osm&styles=&service=wms&srs=EPSG%3A3857&format=image%2Fjpg&request=GetMap&bgcolor=0xFFFFFF&height=256&width=256&version=1.1.1&bbox=-118.8%2C22.15%2C-108.6%2C32.34&exceptions=application%2Fvnd.ogc.se_xml&transparent=TRUE'"
       ]
      }
     ],
     "prompt_number": 14
    },
    {
     "cell_type": "code",
     "collapsed": false,
     "input": [
      "import os\n",
      "import urllib2\n",
      "from mpl_toolkits.basemap import Basemap\n",
      "import matplotlib.pyplot as plt\n",
      "from matplotlib.offsetbox import AnnotationBbox, OffsetImage\n",
      "from matplotlib._png import read_png\n",
      "import numpy as np\n",
      "\n",
      "lon1 = -180\n",
      "lon2 = 180\n",
      "lat1 = -45\n",
      "lat2 = 45\n",
      "\n",
      "width = 600\n",
      "height = 600\n",
      "basemap_url = '''http://server.arcgisonline.com/ArcGIS/rest/services/World_Physical_Map/MapServer/export?\n",
      "bbox=%d,%d,%d,%d&bboxSR=4326&\n",
      "imageSR=4326&\n",
      "size=800,600& \n",
      "dpi=128&\n",
      "format=png32&\n",
      "f=image\n",
      "''' % (lon1, lat1, lon2, lat2)  \n",
      "\n",
      "m = Basemap(projection='stere',resolution='i',lon_0=0,lat_0=-90,lat_ts=-70,\n",
      "         width=width,height=width,rsphere=(6378273,6356889.449)) \n",
      "# m.imshow(plt.imread(urllib2.urlopen(basemap_url)),origin='upper') \n",
      "m.drawmeridians(np.arange(-180,180,30),labels=[0,0,0,1],color='y') \n",
      "m.drawparallels(np.arange(-80,-0,10),labels=[1,0,0,0],color='y') \n",
      "m.drawcoastlines() \n",
      "plt.show() \n"
     ],
     "language": "python",
     "metadata": {},
     "outputs": [],
     "prompt_number": 45
    },
    {
     "cell_type": "code",
     "collapsed": false,
     "input": [],
     "language": "python",
     "metadata": {},
     "outputs": []
    }
   ],
   "metadata": {}
  }
 ]
}