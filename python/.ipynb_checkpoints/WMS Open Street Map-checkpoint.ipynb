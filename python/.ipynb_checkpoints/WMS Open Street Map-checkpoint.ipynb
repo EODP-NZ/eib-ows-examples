{
 "metadata": {
  "name": "",
  "signature": "sha256:13c4695b18220d797fd2d92730119b4dc3dcf86cfb532a5a53e347b2ee3a5b7a"
 },
 "nbformat": 3,
 "nbformat_minor": 0,
 "worksheets": []
}