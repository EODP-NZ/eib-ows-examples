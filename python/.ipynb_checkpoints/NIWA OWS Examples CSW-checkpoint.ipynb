{
 "metadata": {
  "name": "",
  "signature": "sha256:d36ba99c07b66729a935739ddb56228a57e6292517664bb045a6048e3c8b63cb"
 },
 "nbformat": 3,
 "nbformat_minor": 0,
 "worksheets": [
  {
   "cells": [
    {
     "cell_type": "heading",
     "level": 1,
     "metadata": {},
     "source": [
      "Exploring CSW access in Python"
     ]
    },
    {
     "cell_type": "markdown",
     "metadata": {},
     "source": [
      "CSW is the OGC Catalogue Service It provides an interface for searching metadata catalogues. NIWA has its own metadata catalogue at http://dc.niwa.co.nz.  We can use this to find some interesting data assets.\n",
      "\n",
      "see http://geopython.github.io/OWSLib/#csw for more details"
     ]
    },
    {
     "cell_type": "code",
     "collapsed": false,
     "input": [
      "from owslib.csw import CatalogueServiceWeb\n",
      "from owslib import fes"
     ],
     "language": "python",
     "metadata": {},
     "outputs": [],
     "prompt_number": 1
    },
    {
     "cell_type": "code",
     "collapsed": false,
     "input": [
      "# connect to CSW, explore it's properties\n",
      "#endpoint = 'http://www.ngdc.noaa.gov/geoportal/csw' # NGDC Geoportal\n",
      "#endpoint = 'http://www.nodc.noaa.gov/geoportal/csw'   # NODC Geoportal: granule level\n",
      "#endpoint = 'http://data.nodc.noaa.gov/geoportal/csw'  # NODC Geoportal: collection level\n",
      "    \n",
      "#endpoint = 'http://geodiscover.cgdi.ca/wes/serviceManagerCSW/csw'  # NRCAN CUSTOM\n",
      "#endpoint = 'http://geoport.whoi.edu/gi-cat/services/cswiso' # USGS Woods Hole GI_CAT\n",
      "#endpoint = 'http://cida.usgs.gov/gdp/geonetwork/srv/en/csw' # USGS CIDA Geonetwork\n",
      "#endpoint = 'http://cmgds.marine.usgs.gov/geonetwork/srv/en/csw' # USGS Coastal and Marine Program\n",
      "\n",
      "endpoint = 'http://dc.niwa.co.nz/niwa_dc/srv/en/csw' # NIWA Metadata Catalogue\n",
      "csw = CatalogueServiceWeb(endpoint)\n",
      "print \"Version\", csw.version\n",
      "print \"Type\", csw.identification.type\n",
      "\n",
      "# note that setting username and password will allow more results to be returned if you are niwa admin.\n",
      "print \"username\", csw.username"
     ],
     "language": "python",
     "metadata": {},
     "outputs": [
      {
       "output_type": "stream",
       "stream": "stdout",
       "text": [
        "Version 2.0.2\n",
        "Type CSW\n",
        "username None\n"
       ]
      }
     ],
     "prompt_number": 60
    },
    {
     "cell_type": "code",
     "collapsed": false,
     "input": [
      "# List the available CSW operations\n",
      "[op.name for op in csw.operations]"
     ],
     "language": "python",
     "metadata": {},
     "outputs": [
      {
       "metadata": {},
       "output_type": "pyout",
       "prompt_number": 17,
       "text": [
        "['GetCapabilities',\n",
        " 'DescribeRecord',\n",
        " 'GetDomain',\n",
        " 'GetRecords',\n",
        " 'GetRecordById',\n",
        " 'Transaction',\n",
        " 'Harvest']"
       ]
      }
     ],
     "prompt_number": 17
    },
    {
     "cell_type": "heading",
     "level": 2,
     "metadata": {},
     "source": [
      "GetRecords"
     ]
    },
    {
     "cell_type": "markdown",
     "metadata": {},
     "source": [
      "The getdomain call tells us what will be in the results record after the GetRecords Call."
     ]
    },
    {
     "cell_type": "code",
     "collapsed": false,
     "input": [
      "csw.getdomain('GetRecords.resultType')\n",
      "csw.results"
     ],
     "language": "python",
     "metadata": {},
     "outputs": [
      {
       "metadata": {},
       "output_type": "pyout",
       "prompt_number": 21,
       "text": [
        "{'parameter': 'GetRecords.resultType',\n",
        " 'type': 'csw:Record',\n",
        " 'values': ['hits', 'results', 'results_with_summary', 'validate']}"
       ]
      }
     ],
     "prompt_number": 21
    },
    {
     "cell_type": "code",
     "collapsed": false,
     "input": [
      "# setup a bounding box,  this is the central north island.\n",
      "NorthIsland=[172,-35, 179, -40] \n",
      "# get records in this area matching the keyword fish:\n",
      "csw.getrecords(keywords=['fish'],bbox=NorthIsland,maxrecords=20, resulttype=\"hits\")\n",
      "\n",
      "print \"results\", csw.results\n"
     ],
     "language": "python",
     "metadata": {},
     "outputs": [
      {
       "output_type": "stream",
       "stream": "stdout",
       "text": [
        "results {'matches': 24, 'nextrecord': 21, 'returned': 20}\n"
       ]
      }
     ],
     "prompt_number": 80
    },
    {
     "cell_type": "markdown",
     "metadata": {},
     "source": [
      "The result csw.records is map with key = Metadata GUID and value holding the metadata content."
     ]
    },
    {
     "cell_type": "code",
     "collapsed": false,
     "input": [
      "csw.getrecords(keywords=['fish'],bbox=NorthIsland,maxrecords=20, resulttype=\"results\")\n",
      "\n",
      "for rec in csw.records:\n",
      "    print rec, csw.records[rec].title\n"
     ],
     "language": "python",
     "metadata": {},
     "outputs": [
      {
       "output_type": "stream",
       "stream": "stdout",
       "text": [
        "4753f707-183e-4828-80fc-05d1d10a6b92 BOI Dropped Underwater Video (DUV) data in the Bay of Islands - RV Hawere\n",
        "b42896e9-c262-4881-b241-c15dc45e637f BOI Demersal trawl data\n",
        "f7138677-f6a6-452b-b9a0-2b27a81998d7 Bay of Islands OS20/20 Survey Report Chapter 09: Seafloor assemblage and habitat assessment using DTIS\n",
        "2518887e-28cc-48be-855f-9ea779be8daa Bay of Islands OS20/20 Survey Report Chapter 13: Fish communities\n",
        "1b3464c0-1598-44c6-90f0-f931b3c0cbcf BOI Baited Underwater Video - shallow waters\n",
        "43cd7eb8-9291-48de-ac0b-6c9db1720a9c BOI Public presentations July 2010 - Ministry of Fisheries\n",
        "c431d79b-c729-40ee-b21e-2d32556d2439 Bay of Islands OS20/20 Survey Report Chapter 08: Water column and water quality\n",
        "f7bd7c6f-db48-4bc8-8f6f-152f8afc29d8 BOI Baited Underwater Video - deep waters\n",
        "bd903f15-0bf9-4c86-866b-2d59f2aa1861 Bay of Islands OS20/20 Survey Report Chapter 10: Shallow rocky reefs\n",
        "4a6d04ef-8e28-08ca-e682-ad589b3c26f8 Massey Periphyton 2003\n",
        "81219eba-4cc6-4ced-ae14-7f7f7b099695 NIWA Atlas of NZ Freshwater Fishes\n",
        "b96c15ae-061b-ac8f-8b37-931d3538f45e Patea River periphyton\n",
        "e99e68fa-10f8-517f-8da9-bf9d3dfb3684 Biodiversity of springs and rock seepages 2003\n",
        "d929d58f-dfa5-583a-75d1-ed34b3d450b0 Freshwater biodiversity\n",
        "66dd6f24-e55e-4c04-9047-afac9778b155 Benthic 2000 Data\n",
        "8d1ecc06-5d26-40aa-b6fc-74ed9bba49cb Macrophyte Lake Data\n",
        "3c1fbe99-47b6-4c01-b937-17948d8b3fc6 Freshwater Pest Plants\n",
        "90f1aadd-c2fa-4b2c-af83-5e2a5a98e89d Cawthron Institute freshwater invertebrate and algae data\n",
        "8cf44974-57b4-4ce7-8c7e-2843d1fe603e National River Water Quality Network Database  (Macro-invertebrates)\n",
        "df676dde-98ed-4141-b497-03efe0b0a24d New Zealand Freshwater Fish Database\n"
       ]
      }
     ],
     "prompt_number": 86
    },
    {
     "cell_type": "code",
     "collapsed": false,
     "input": [
      "record = csw.records['b750e8ee-0aab-4a9d-8796-05803056a87a']\n",
      "record.title\n",
      "record.xml"
     ],
     "language": "python",
     "metadata": {},
     "outputs": [
      {
       "metadata": {},
       "output_type": "pyout",
       "prompt_number": 42,
       "text": [
        "'<csw:SummaryRecord xmlns:dct=\"http://purl.org/dc/terms/\" xmlns:dc=\"http://purl.org/dc/elements/1.1/\" xmlns:geonet=\"http://www.fao.org/geonetwork\" xmlns:csw=\"http://www.opengis.net/cat/csw/2.0.2\" xmlns:xsi=\"http://www.w3.org/2001/XMLSchema-instance\">\\n      <dc:identifier>b750e8ee-0aab-4a9d-8796-05803056a87a</dc:identifier>\\n      <dc:title>Wetland Invertebrate and Environmental Data 2010</dc:title>\\n      <dc:type>dataset</dc:type>\\n      <dc:subject>invertebrate wetland FBIS</dc:subject>\\n      <dc:subject>biota</dc:subject>\\n      <dc:format>csv</dc:format>\\n      <dct:abstract>Freshwater invertebrates collected semi-quantitatively from wetlands (e.g. bogs, fens, swamps) below an altitude of 250 m, and which are subject to a range of anthropogenic pressures (i.e. relatively pristine to heavily impacted). At the scale of each wetland, environmental information was collected; then, within each wetland an average of 3 (but up to 6) different water bodies (i.e. sites) were sampled with water quality parameters measured at each site; and at each site, two \\'replicate\\' invertebrate samples were collected (i.e. A and B samples).</dct:abstract>\\n    </csw:SummaryRecord>\\n    '"
       ]
      }
     ],
     "prompt_number": 42
    },
    {
     "cell_type": "heading",
     "level": 2,
     "metadata": {},
     "source": [
      "Get a specific record:"
     ]
    },
    {
     "cell_type": "code",
     "collapsed": false,
     "input": [
      "id = '81219eba-4cc6-4ced-ae14-7f7f7b099695'\n",
      "csw.getrecordbyid(id=[id])\n",
      "print csw.records[id].title\n"
     ],
     "language": "python",
     "metadata": {},
     "outputs": [
      {
       "output_type": "stream",
       "stream": "stdout",
       "text": [
        "NIWA Atlas of NZ Freshwater Fishes\n"
       ]
      }
     ],
     "prompt_number": 123
    },
    {
     "cell_type": "heading",
     "level": 1,
     "metadata": {},
     "source": [
      "Using Filters"
     ]
    },
    {
     "cell_type": "heading",
     "level": 2,
     "metadata": {},
     "source": [
      "Search for Fish Data"
     ]
    },
    {
     "cell_type": "code",
     "collapsed": false,
     "input": [
      "# FES is the Filter Encoding Standard.\n",
      "from owslib.fes import PropertyIsEqualTo, PropertyIsLike, BBox\n",
      "\n",
      "# Fish anywhere in the text\n",
      "fish_query = PropertyIsEqualTo('csw:AnyText', 'fish')\n",
      "csw.getrecords2(constraints=[fish_query], maxrecords=20)\n",
      "print csw.results\n",
      "# for rec in csw.records:\n",
      "#     print rec, csw.records[rec].title\n",
      "  \n",
      "# fish in the subject line    \n",
      "fish_query_like = PropertyIsLike('dc:subject', '%fish%')\n",
      "csw.getrecords2(constraints=[fish_query_like], maxrecords=20)\n",
      "print csw.results\n"
     ],
     "language": "python",
     "metadata": {},
     "outputs": [
      {
       "output_type": "stream",
       "stream": "stdout",
       "text": [
        "{'matches': 40, 'nextrecord': 21, 'returned': 20}\n",
        "{'matches': 16, 'nextrecord': 0, 'returned': 16}"
       ]
      },
      {
       "output_type": "stream",
       "stream": "stdout",
       "text": [
        "\n"
       ]
      }
     ],
     "prompt_number": 49
    },
    {
     "cell_type": "heading",
     "level": 2,
     "metadata": {},
     "source": [
      "Search filter with bounding box"
     ]
    },
    {
     "cell_type": "markdown",
     "metadata": {},
     "source": [
      "use getrecords2 for the constraints parameter"
     ]
    },
    {
     "cell_type": "code",
     "collapsed": false,
     "input": [
      "\n",
      "bbox_query = BBox([172,-35, 179, -40])\n",
      "fish_query = PropertyIsEqualTo('csw:AnyText', 'fish')\n",
      "csw.getrecords2(constraints=[fish_query, bbox_query], maxrecords=20)\n",
      "print csw.results\n",
      "\n",
      "# fish in the subject line    \n",
      "fish_query_like = PropertyIsLike('dc:subject', '%fish%')\n",
      "csw.getrecords2(constraints=[fish_query_like, bbox_query], maxrecords=20)\n",
      "print csw.results"
     ],
     "language": "python",
     "metadata": {},
     "outputs": [
      {
       "output_type": "stream",
       "stream": "stdout",
       "text": [
        "{'matches': 21, 'nextrecord': 21, 'returned': 20}\n",
        "{'matches': 9, 'nextrecord': 0, 'returned': 9}"
       ]
      },
      {
       "output_type": "stream",
       "stream": "stdout",
       "text": [
        "\n"
       ]
      }
     ],
     "prompt_number": 127
    },
    {
     "cell_type": "code",
     "collapsed": false,
     "input": [
      "for rec in csw.records:\n",
      "     print rec, csw.records[rec].title"
     ],
     "language": "python",
     "metadata": {},
     "outputs": [
      {
       "output_type": "stream",
       "stream": "stdout",
       "text": [
        "4753f707-183e-4828-80fc-05d1d10a6b92 BOI Dropped Underwater Video (DUV) data in the Bay of Islands - RV Hawere\n",
        "b42896e9-c262-4881-b241-c15dc45e637f BOI Demersal trawl data\n",
        "2518887e-28cc-48be-855f-9ea779be8daa Bay of Islands OS20/20 Survey Report Chapter 13: Fish communities\n",
        "1b3464c0-1598-44c6-90f0-f931b3c0cbcf BOI Baited Underwater Video - shallow waters\n",
        "f7bd7c6f-db48-4bc8-8f6f-152f8afc29d8 BOI Baited Underwater Video - deep waters\n",
        "bd903f15-0bf9-4c86-866b-2d59f2aa1861 Bay of Islands OS20/20 Survey Report Chapter 10: Shallow rocky reefs\n",
        "81219eba-4cc6-4ced-ae14-7f7f7b099695 NIWA Atlas of NZ Freshwater Fishes\n",
        "df676dde-98ed-4141-b497-03efe0b0a24d New Zealand Freshwater Fish Database\n",
        "d565759a-9cf4-481e-be46-d742f6831222 BOI Public presentations July 2010 - Fish assemblages\n"
       ]
      }
     ],
     "prompt_number": 128
    },
    {
     "cell_type": "heading",
     "level": 2,
     "metadata": {},
     "source": [
      "List record properties and format nicely"
     ]
    },
    {
     "cell_type": "code",
     "collapsed": false,
     "input": [
      "wfs_query = PropertyIsEqualTo('csw:AnyText', 'wfs')   \n",
      "csw.getrecords2(constraints=[wfs_query], maxrecords=20)\n",
      "\n",
      "\n",
      "from IPython.display import HTML\n",
      "def print_dc(r):\n",
      "    display( HTML(\"<h3>%s <small>%s</small></h3>\" % (r.title, r.identifiers[0]['identifier'])))\n",
      "    \n",
      "    display( HTML(\"<p><strong>Subjects:</strong> %s</p>\" % \", \".join(r.subjects)))\n",
      "    display( HTML(\"<p><strong>Abstract:</strong> %s</p>\" % r.abstract))\n",
      "    display( HTML(\"<p><strong>Rights:</strong> %s</p>\" % \", \".join(r.rights)))\n",
      "    # print \"date:\", r.date\n",
      "    # print \"URIs:\", A.uris\n",
      "    for u in r.uris:\n",
      "        display(HTML(\"<a href='%s'>%s</a>\" % (u['url'], u['description'])))\n",
      "    print r.bbox    \n",
      "\n",
      "    \n",
      "for rec in csw.records:\n",
      "    print_dc(csw.records[rec])\n",
      "        \n",
      "    "
     ],
     "language": "python",
     "metadata": {},
     "outputs": [
      {
       "html": [
        "<h3>NIWA Station Information Management System (SIMS) <small>55bace6b-7749-40b3-a731-55e076ffc962</small></h3>"
       ],
       "metadata": {},
       "output_type": "display_data",
       "text": [
        "<IPython.core.display.HTML at 0x106e84850>"
       ]
      },
      {
       "html": [
        "<p><strong>Subjects:</strong> field station data SIMS information management</p>"
       ],
       "metadata": {},
       "output_type": "display_data",
       "text": [
        "<IPython.core.display.HTML at 0x106e3bf90>"
       ]
      },
      {
       "html": [
        "<p><strong>Abstract:</strong> Archive for Metadata about NIWA's permanent field measurements</p>"
       ],
       "metadata": {},
       "output_type": "display_data",
       "text": [
        "<IPython.core.display.HTML at 0x106e3bf90>"
       ]
      },
      {
       "html": [
        "<p><strong>Rights:</strong> </p>"
       ],
       "metadata": {},
       "output_type": "display_data",
       "text": [
        "<IPython.core.display.HTML at 0x106dbef90>"
       ]
      },
      {
       "output_type": "stream",
       "stream": "stdout",
       "text": [
        "None\n"
       ]
      },
      {
       "html": [
        "<h3>NIWA Stations Catalogue WFS service <small>0001d08a-ad2c-44dc-a0bd-52ebba2dfb98</small></h3>"
       ],
       "metadata": {},
       "output_type": "display_data",
       "text": [
        "<IPython.core.display.HTML at 0x106daafd0>"
       ]
      },
      {
       "html": [
        "<p><strong>Subjects:</strong> field station data, SIMS, information, management</p>"
       ],
       "metadata": {},
       "output_type": "display_data",
       "text": [
        "<IPython.core.display.HTML at 0x106e93990>"
       ]
      },
      {
       "html": [
        "<p><strong>Abstract:</strong> This is an OGC Web Feature Service feed from the  NIWA Station management system, a component of the NIWA Spatial Data Infrastructure (SDI).\n",
        "\n",
        "It provides position and attribute information on over 5000 fixed position environmental monitoring stations across NZ and the Pacific.\n",
        "\n",
        "The service provides three feature sets:\n",
        "stations\tNIWA public stations -180\u00b0-+180\u00b0\n",
        "stations_360\tNIWA public stations 0\u00b0360\u00b0\t\n",
        "The stations_360 layer returns station locations in the range 0..360\u00b0 making it easier to display stations on either side of the International Date Line.\n",
        "\n",
        "stationtypes\tNIWA station types\t\n",
        "The stationtypes layer returns the various types of stations available: climate, rainfall, sea level etc. This allows clients to craft filtered requests or display different station types in different colours or styles.</p>"
       ],
       "metadata": {},
       "output_type": "display_data",
       "text": [
        "<IPython.core.display.HTML at 0x106e387d0>"
       ]
      },
      {
       "html": [
        "<p><strong>Rights:</strong> </p>"
       ],
       "metadata": {},
       "output_type": "display_data",
       "text": [
        "<IPython.core.display.HTML at 0x106e38750>"
       ]
      },
      {
       "output_type": "stream",
       "stream": "stdout",
       "text": [
        "None\n"
       ]
      }
     ],
     "prompt_number": 148
    },
    {
     "cell_type": "code",
     "collapsed": false,
     "input": [
      "id = '81219eba-4cc6-4ced-ae14-7f7f7b099695'\n",
      "csw.getrecordbyid(id=[id])\n",
      "print_dc(csw.records[id])"
     ],
     "language": "python",
     "metadata": {},
     "outputs": [
      {
       "html": [
        "<h3>NIWA Atlas of NZ Freshwater Fishes <small>81219eba-4cc6-4ced-ae14-7f7f7b099695</small></h3>"
       ],
       "metadata": {},
       "output_type": "display_data",
       "text": [
        "<IPython.core.display.HTML at 0x106e84950>"
       ]
      },
      {
       "html": [
        "<p><strong>Subjects:</strong> freshwater fish, fish species, geographic distribution, species descriptions</p>"
       ],
       "metadata": {},
       "output_type": "display_data",
       "text": [
        "<IPython.core.display.HTML at 0x106e84210>"
       ]
      },
      {
       "html": [
        "<p><strong>Abstract:</strong> This atlas contains a brief summary for each species, including the marine wanderers. Each summary includes: a picture of the fish, how to distinguish that fish from others, some interesting facts about the species and a distribution map.</p>"
       ],
       "metadata": {},
       "output_type": "display_data",
       "text": [
        "<IPython.core.display.HTML at 0x106e84590>"
       ]
      },
      {
       "html": [
        "<p><strong>Rights:</strong> </p>"
       ],
       "metadata": {},
       "output_type": "display_data",
       "text": [
        "<IPython.core.display.HTML at 0x106dbef90>"
       ]
      },
      {
       "html": [
        "<a href='http://dc.niwa.co.nz:80/niwa_dc/srv/en/metadata.show?uuid=81219eba-4cc6-4ced-ae14-7f7f7b099695'>Point of truth URL of this metadata record</a>"
       ],
       "metadata": {},
       "output_type": "display_data",
       "text": [
        "<IPython.core.display.HTML at 0x106e386d0>"
       ]
      },
      {
       "html": [
        "<a href='http://www.niwa.co.nz/our-science/freshwater/tools/fishatlas'>Link to NIWA's Atlas of Freshwater fishes</a>"
       ],
       "metadata": {},
       "output_type": "display_data",
       "text": [
        "<IPython.core.display.HTML at 0x106e38750>"
       ]
      },
      {
       "output_type": "stream",
       "stream": "stdout",
       "text": [
        "<owslib.ows.BoundingBox object at 0x106e3bf90>\n"
       ]
      }
     ],
     "prompt_number": 147
    },
    {
     "cell_type": "code",
     "collapsed": false,
     "input": [],
     "language": "python",
     "metadata": {},
     "outputs": []
    }
   ],
   "metadata": {}
  }
 ]
}